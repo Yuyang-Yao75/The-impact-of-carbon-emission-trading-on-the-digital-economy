{
 "cells": [
  {
   "cell_type": "code",
   "execution_count": null,
   "id": "52607947",
   "metadata": {},
   "outputs": [],
   "source": [
    "# 修改国家统计局数据格式为面板数据\n",
    "import pandas as pd\n",
    "import os\n",
    "\n",
    "def merge_excel_data_in_folder(folder_path, output_file_name, start_row, end_row, start_col, end_col, folder_path_out=None):\n",
    "    \"\"\"\n",
    "    遍历指定文件夹中的所有Excel文件，对每个文件从指定的开始行列到结束行列的数据进行合并处理，\n",
    "    然后将所有合并后的数据保存到指定文件夹下的新Excel文件中。\n",
    "\n",
    "    参数:\n",
    "    folder_path: 包含Excel文件的文件夹路径。\n",
    "    output_file_name: 输出文件的名称。\n",
    "    start_row: 数据开始的行号（从0开始计数）。\n",
    "    end_row: 数据结束的行号。\n",
    "    start_col: 数据开始的列标（如'A', 'B'等）。\n",
    "    end_col: 数据结束的列标。\n",
    "    folder_path_out: 输出文件的文件夹路径。如果为None，则使用输入文件的文件夹路径。\n",
    "    \"\"\"\n",
    "    # 初始化一个空的DataFrame用于存放所有合并后的数据\n",
    "    all_merged_data = pd.DataFrame()\n",
    "\n",
    "    # 使用提供的输出文件夹路径，如果没有提供，则使用输入文件的文件夹路径\n",
    "    if folder_path_out is None:\n",
    "        folder_path_out = folder_path\n",
    "    \n",
    "    # 遍历文件夹中的所有文件\n",
    "    for file_name in os.listdir(folder_path):\n",
    "        # 构造完整的文件路径\n",
    "        file_path = os.path.join(folder_path, file_name)\n",
    "        # 确保是Excel文件\n",
    "        if file_path.endswith('.xlsx'):\n",
    "            # 读取指定范围的数据\n",
    "            usecols = f\"{start_col}:{end_col}\"\n",
    "            skiprows = start_row\n",
    "            nrows = end_row - start_row + 1\n",
    "            df = pd.read_excel(file_path, usecols=usecols, skiprows=skiprows, nrows=nrows)\n",
    "            # 初始化一个空的列表用于存放合并后的数据\n",
    "            merged_data = []\n",
    "            # 从倒数第一列开始，逐列向前合并数据\n",
    "            for column in reversed(df.columns):\n",
    "                # 将当前列的数据添加到合并列表中\n",
    "                merged_data.extend(df[column].dropna().values)\n",
    "            # 将合并后的数据添加到总的DataFrame中\n",
    "            all_merged_data = pd.concat([all_merged_data, pd.DataFrame(merged_data, columns=[file_name])], axis=1)\n",
    "\n",
    "    # 定义新Excel文件的路径\n",
    "    new_excel_path = os.path.join(folder_path_out, output_file_name)\n",
    "\n",
    "    # 将合并后的数据保存到新的Excel文件中\n",
    "    all_merged_data.to_excel(new_excel_path, index=False)\n",
    "\n",
    "    print(f\"合并后的数据已保存到 {new_excel_path}\")"
   ]
  },
  {
   "cell_type": "code",
   "execution_count": 10,
   "id": "25c51631",
   "metadata": {},
   "outputs": [],
   "source": [
    "import numpy as np\n",
    "import pandas as pd\n",
    "import matplotlib.pyplot as plt\n",
    "from pylab import mpl\n",
    "\n",
    "\n",
    "plt.rcParams['font.family'] = 'SimHei'  # Or any other font you have\n",
    "plt.rcParams['axes.unicode_minus'] = False  # This ensures that the minus sign in matplotlib plots uses the standard character and not the one specific to the font, which might not render correctly.\n"
   ]
  },
  {
   "cell_type": "code",
   "execution_count": 11,
   "id": "eccf161c",
   "metadata": {},
   "outputs": [
    {
     "data": {
      "text/html": [
       "<div>\n",
       "<style scoped>\n",
       "    .dataframe tbody tr th:only-of-type {\n",
       "        vertical-align: middle;\n",
       "    }\n",
       "\n",
       "    .dataframe tbody tr th {\n",
       "        vertical-align: top;\n",
       "    }\n",
       "\n",
       "    .dataframe thead th {\n",
       "        text-align: right;\n",
       "    }\n",
       "</style>\n",
       "<table border=\"1\" class=\"dataframe\">\n",
       "  <thead>\n",
       "    <tr style=\"text-align: right;\">\n",
       "      <th></th>\n",
       "      <th>ID</th>\n",
       "      <th>省份</th>\n",
       "      <th>年份</th>\n",
       "      <th>域名数</th>\n",
       "      <th>IPV4个数</th>\n",
       "      <th>互联网接入端口数</th>\n",
       "      <th>移动电话普及率</th>\n",
       "      <th>单位面积长途光缆长度</th>\n",
       "      <th>信息化企业数</th>\n",
       "      <th>每百家企业拥有网站数</th>\n",
       "      <th>电子商务交易额（亿元）</th>\n",
       "      <th>有电子商务交易活动企业比重</th>\n",
       "      <th>软件业务收入（万元）</th>\n",
       "      <th>数字金融覆盖广度指数</th>\n",
       "      <th>数字金融使用深度指数</th>\n",
       "      <th>数字金融数字化程度</th>\n",
       "      <th>数字经济发展水平</th>\n",
       "      <th>得分</th>\n",
       "      <th>Unnamed: 18</th>\n",
       "    </tr>\n",
       "  </thead>\n",
       "  <tbody>\n",
       "    <tr>\n",
       "      <th>0</th>\n",
       "      <td>1</td>\n",
       "      <td>Beijing</td>\n",
       "      <td>2011</td>\n",
       "      <td>106.1328</td>\n",
       "      <td>8459.2624</td>\n",
       "      <td>966.8</td>\n",
       "      <td>154.27</td>\n",
       "      <td>9.469524</td>\n",
       "      <td>371</td>\n",
       "      <td>57</td>\n",
       "      <td>5090.4302</td>\n",
       "      <td>2.526667</td>\n",
       "      <td>30704457.0</td>\n",
       "      <td>97.53</td>\n",
       "      <td>72.23</td>\n",
       "      <td>32.59</td>\n",
       "      <td>0.223360</td>\n",
       "      <td>68.934384</td>\n",
       "      <td>NaN</td>\n",
       "    </tr>\n",
       "    <tr>\n",
       "      <th>1</th>\n",
       "      <td>1</td>\n",
       "      <td>Beijing</td>\n",
       "      <td>2012</td>\n",
       "      <td>125.6000</td>\n",
       "      <td>8464.9992</td>\n",
       "      <td>1076.8</td>\n",
       "      <td>156.90</td>\n",
       "      <td>11.437771</td>\n",
       "      <td>420</td>\n",
       "      <td>58</td>\n",
       "      <td>8527.0898</td>\n",
       "      <td>6.320000</td>\n",
       "      <td>36765627.0</td>\n",
       "      <td>155.56</td>\n",
       "      <td>159.42</td>\n",
       "      <td>118.47</td>\n",
       "      <td>0.256520</td>\n",
       "      <td>70.260820</td>\n",
       "      <td>NaN</td>\n",
       "    </tr>\n",
       "    <tr>\n",
       "      <th>2</th>\n",
       "      <td>1</td>\n",
       "      <td>Beijing</td>\n",
       "      <td>2013</td>\n",
       "      <td>185.7000</td>\n",
       "      <td>8472.4024</td>\n",
       "      <td>1186.8</td>\n",
       "      <td>159.53</td>\n",
       "      <td>13.406018</td>\n",
       "      <td>410</td>\n",
       "      <td>59</td>\n",
       "      <td>12345.3000</td>\n",
       "      <td>7.500000</td>\n",
       "      <td>42106311.0</td>\n",
       "      <td>193.86</td>\n",
       "      <td>247.50</td>\n",
       "      <td>229.57</td>\n",
       "      <td>0.285414</td>\n",
       "      <td>71.416564</td>\n",
       "      <td>NaN</td>\n",
       "    </tr>\n",
       "    <tr>\n",
       "      <th>3</th>\n",
       "      <td>1</td>\n",
       "      <td>Beijing</td>\n",
       "      <td>2014</td>\n",
       "      <td>265.5000</td>\n",
       "      <td>8525.4576</td>\n",
       "      <td>1159.9</td>\n",
       "      <td>189.46</td>\n",
       "      <td>14.722246</td>\n",
       "      <td>397</td>\n",
       "      <td>60</td>\n",
       "      <td>16576.3010</td>\n",
       "      <td>12.600000</td>\n",
       "      <td>47965752.0</td>\n",
       "      <td>243.92</td>\n",
       "      <td>219.89</td>\n",
       "      <td>235.22</td>\n",
       "      <td>0.314627</td>\n",
       "      <td>72.585072</td>\n",
       "      <td>NaN</td>\n",
       "    </tr>\n",
       "    <tr>\n",
       "      <th>4</th>\n",
       "      <td>1</td>\n",
       "      <td>Beijing</td>\n",
       "      <td>2015</td>\n",
       "      <td>485.7000</td>\n",
       "      <td>8564.4256</td>\n",
       "      <td>1580.5</td>\n",
       "      <td>181.73</td>\n",
       "      <td>16.787991</td>\n",
       "      <td>402</td>\n",
       "      <td>63</td>\n",
       "      <td>20064.6000</td>\n",
       "      <td>17.100000</td>\n",
       "      <td>54228650.0</td>\n",
       "      <td>268.39</td>\n",
       "      <td>234.17</td>\n",
       "      <td>379.48</td>\n",
       "      <td>0.347816</td>\n",
       "      <td>73.912632</td>\n",
       "      <td>NaN</td>\n",
       "    </tr>\n",
       "  </tbody>\n",
       "</table>\n",
       "</div>"
      ],
      "text/plain": [
       "   ID       省份    年份       域名数     IPV4个数  互联网接入端口数  移动电话普及率  单位面积长途光缆长度  \\\n",
       "0   1  Beijing  2011  106.1328  8459.2624     966.8   154.27    9.469524   \n",
       "1   1  Beijing  2012  125.6000  8464.9992    1076.8   156.90   11.437771   \n",
       "2   1  Beijing  2013  185.7000  8472.4024    1186.8   159.53   13.406018   \n",
       "3   1  Beijing  2014  265.5000  8525.4576    1159.9   189.46   14.722246   \n",
       "4   1  Beijing  2015  485.7000  8564.4256    1580.5   181.73   16.787991   \n",
       "\n",
       "   信息化企业数  每百家企业拥有网站数  电子商务交易额（亿元）  有电子商务交易活动企业比重  软件业务收入（万元）  数字金融覆盖广度指数  \\\n",
       "0     371          57    5090.4302       2.526667  30704457.0       97.53   \n",
       "1     420          58    8527.0898       6.320000  36765627.0      155.56   \n",
       "2     410          59   12345.3000       7.500000  42106311.0      193.86   \n",
       "3     397          60   16576.3010      12.600000  47965752.0      243.92   \n",
       "4     402          63   20064.6000      17.100000  54228650.0      268.39   \n",
       "\n",
       "   数字金融使用深度指数  数字金融数字化程度  数字经济发展水平         得分 Unnamed: 18  \n",
       "0       72.23      32.59  0.223360  68.934384         NaN  \n",
       "1      159.42     118.47  0.256520  70.260820         NaN  \n",
       "2      247.50     229.57  0.285414  71.416564         NaN  \n",
       "3      219.89     235.22  0.314627  72.585072         NaN  \n",
       "4      234.17     379.48  0.347816  73.912632         NaN  "
      ]
     },
     "execution_count": 11,
     "metadata": {},
     "output_type": "execute_result"
    }
   ],
   "source": [
    "# Load the new uploaded Excel file to check its content and structure\n",
    "# This time, assuming a more standard format given the re-upload\n",
    "new_file_path = '...'\n",
    "new_data = pd.read_excel(new_file_path)\n",
    "\n",
    "# Display the first few rows of the dataframe to understand its structure\n",
    "new_data.head()"
   ]
  },
  {
   "cell_type": "code",
   "execution_count": 12,
   "id": "5762448a",
   "metadata": {},
   "outputs": [
    {
     "data": {
      "image/png": "[encoded data removed]",
      "text/plain": [
       "<Figure size 1400x800 with 1 Axes>"
      ]
     },
     "metadata": {},
     "output_type": "display_data"
    }
   ],
   "source": [
    "import seaborn as sns\n",
    "\n",
    "# Setting the aesthetic style of the plots\n",
    "sns.set(style=\"whitegrid\")\n",
    "\n",
    "# Since the data seems to have multiple provinces and years, we'll plot a trend line for each province\n",
    "plt.figure(figsize=(14, 8))\n",
    "\n",
    "# Looping through each province to plot their digital economy development trend\n",
    "for province in new_data['省份'].unique():\n",
    "    province_data = new_data[new_data['省份'] == province]\n",
    "    plt.plot(province_data['年份'], province_data['数字经济发展水平'], marker='o', label=province)\n",
    "\n",
    "plt.title('Digital Economy Development Level by Province (2011-2022)')\n",
    "plt.xlabel('Year')\n",
    "plt.ylabel('Digital Economy Development Level')\n",
    "plt.xticks(new_data['年份'].unique())\n",
    "plt.legend(title='Province', bbox_to_anchor=(1.05, 1), loc='upper left')\n",
    "plt.tight_layout()\n",
    "\n",
    "plt.show()\n"
   ]
  },
  {
   "cell_type": "code",
   "execution_count": 13,
   "id": "3a4926a7",
   "metadata": {},
   "outputs": [
    {
     "name": "stdout",
     "output_type": "stream",
     "text": [
      "Requirement already satisfied: plotly in /Users/yaoyuyang/anaconda3/lib/python3.11/site-packages (5.9.0)\n",
      "Requirement already satisfied: tenacity>=6.2.0 in /Users/yaoyuyang/anaconda3/lib/python3.11/site-packages (from plotly) (8.2.2)\n",
      "Note: you may need to restart the kernel to use updated packages.\n"
     ]
    }
   ],
   "source": [
    "pip install plotly"
   ]
  },
  {
   "cell_type": "code",
   "execution_count": 15,
   "id": "c586064f",
   "metadata": {},
   "outputs": [
    {
     "data": {
      "application/vnd.plotly.v1+json": {
       "config": {
        "plotlyServerURL": "https://plot.ly"
       },
       "data": [
        {
         "hovertemplate": "Province=Beijing<br>Year=%{x}<br>Digital Economy Development Level=%{y}<extra></extra>",
         "legendgroup": "Beijing",
         "line": {
          "color": "#636efa",
          "dash": "solid"
         },
         "marker": {
          "symbol": "circle"
         },
         "mode": "lines",
         "name": "Beijing",
         "orientation": "v",
         "showlegend": true,
         "type": "scatter",
         "x": [
          "2011",
          "2012",
          "2013",
          "2014",
          "2015",
          "2016",
          "2017",
          "2018",
          "2019",
          "2020",
          "2021",
          "2022"
         ],
         "xaxis": "x",
         "y": [
          68.934384,
          70.26082,
          71.416564,
          72.585072,
          73.912632,
          74.586284,
          75.600264,
          77.155264,
          78.833644,
          80.613072,
          83.029272,
          85.410308
         ],
         "yaxis": "y"
        },
        {
         "hovertemplate": "Province=Tianjin<br>Year=%{x}<br>Digital Economy Development Level=%{y}<extra></extra>",
         "legendgroup": "Tianjin",
         "line": {
          "color": "#EF553B",
          "dash": "solid"
         },
         "marker": {
          "symbol": "circle"
         },
         "mode": "lines",
         "name": "Tianjin",
         "orientation": "v",
         "showlegend": true,
         "type": "scatter",
         "x": [
          "2011",
          "2012",
          "2013",
          "2014",
          "2015",
          "2016",
          "2017",
          "2018",
          "2019",
          "2020",
          "2021",
          "2022"
         ],
         "xaxis": "x",
         "y": [
          62.3385,
          62.93706,
          63.288972,
          63.750256,
          64.443292,
          64.56886,
          64.803924,
          65.259596,
          66.103076,
          66.54756,
          66.818704,
          67.325092
         ],
         "yaxis": "y"
        },
        {
         "hovertemplate": "Province=Hebei<br>Year=%{x}<br>Digital Economy Development Level=%{y}<extra></extra>",
         "legendgroup": "Hebei",
         "line": {
          "color": "#00cc96",
          "dash": "solid"
         },
         "marker": {
          "symbol": "circle"
         },
         "mode": "lines",
         "name": "Hebei",
         "orientation": "v",
         "showlegend": true,
         "type": "scatter",
         "x": [
          "2011",
          "2012",
          "2013",
          "2014",
          "2015",
          "2016",
          "2017",
          "2018",
          "2019",
          "2020",
          "2021",
          "2022"
         ],
         "xaxis": "x",
         "y": [
          61.832556,
          62.516868,
          63.154896,
          63.494508,
          64.131416,
          64.742176,
          65.300584,
          65.548052,
          65.776804,
          66.047272,
          66.44716,
          66.801072
         ],
         "yaxis": "y"
        },
        {
         "hovertemplate": "Province=Shanxi<br>Year=%{x}<br>Digital Economy Development Level=%{y}<extra></extra>",
         "legendgroup": "Shanxi",
         "line": {
          "color": "#ab63fa",
          "dash": "solid"
         },
         "marker": {
          "symbol": "circle"
         },
         "mode": "lines",
         "name": "Shanxi",
         "orientation": "v",
         "showlegend": true,
         "type": "scatter",
         "x": [
          "2011",
          "2012",
          "2013",
          "2014",
          "2015",
          "2016",
          "2017",
          "2018",
          "2019",
          "2020",
          "2021",
          "2022"
         ],
         "xaxis": "x",
         "y": [
          61.15062,
          61.65632,
          62.14592,
          62.47304,
          63.006584,
          63.325532,
          63.572368,
          63.987116,
          64.155556,
          64.355504,
          64.80262,
          65.249244
         ],
         "yaxis": "y"
        },
        {
         "hovertemplate": "Province=Neimeng<br>Year=%{x}<br>Digital Economy Development Level=%{y}<extra></extra>",
         "legendgroup": "Neimeng",
         "line": {
          "color": "#FFA15A",
          "dash": "solid"
         },
         "marker": {
          "symbol": "circle"
         },
         "mode": "lines",
         "name": "Neimeng",
         "orientation": "v",
         "showlegend": true,
         "type": "scatter",
         "x": [
          "2011",
          "2012",
          "2013",
          "2014",
          "2015",
          "2016",
          "2017",
          "2018",
          "2019",
          "2020",
          "2021",
          "2022"
         ],
         "xaxis": "x",
         "y": [
          60.945892,
          61.434344,
          61.963868,
          62.224652,
          62.806176,
          63.105004,
          63.28686,
          63.370072,
          63.566952,
          63.798836,
          64.301016,
          64.686664
         ],
         "yaxis": "y"
        },
        {
         "hovertemplate": "Province=Liaoning<br>Year=%{x}<br>Digital Economy Development Level=%{y}<extra></extra>",
         "legendgroup": "Liaoning",
         "line": {
          "color": "#19d3f3",
          "dash": "solid"
         },
         "marker": {
          "symbol": "circle"
         },
         "mode": "lines",
         "name": "Liaoning",
         "orientation": "v",
         "showlegend": true,
         "type": "scatter",
         "x": [
          "2011",
          "2012",
          "2013",
          "2014",
          "2015",
          "2016",
          "2017",
          "2018",
          "2019",
          "2020",
          "2021",
          "2022"
         ],
         "xaxis": "x",
         "y": [
          62.613576,
          63.292356,
          64.120008,
          64.616404,
          65.300584,
          65.116204,
          65.350416,
          65.650004,
          65.993916,
          66.224904,
          66.46412,
          66.719924
         ],
         "yaxis": "y"
        },
        {
         "hovertemplate": "Province=Jilin<br>Year=%{x}<br>Digital Economy Development Level=%{y}<extra></extra>",
         "legendgroup": "Jilin",
         "line": {
          "color": "#FF6692",
          "dash": "solid"
         },
         "marker": {
          "symbol": "circle"
         },
         "mode": "lines",
         "name": "Jilin",
         "orientation": "v",
         "showlegend": true,
         "type": "scatter",
         "x": [
          "2011",
          "2012",
          "2013",
          "2014",
          "2015",
          "2016",
          "2017",
          "2018",
          "2019",
          "2020",
          "2021",
          "2022"
         ],
         "xaxis": "x",
         "y": [
          61.014004,
          61.570748,
          62.012356,
          62.34528,
          62.845984,
          63.046544,
          63.344696,
          63.619268,
          63.637704,
          63.833348,
          64.054484,
          64.264652
         ],
         "yaxis": "y"
        },
        {
         "hovertemplate": "Province=Heilongjiang<br>Year=%{x}<br>Digital Economy Development Level=%{y}<extra></extra>",
         "legendgroup": "Heilongjiang",
         "line": {
          "color": "#B6E880",
          "dash": "solid"
         },
         "marker": {
          "symbol": "circle"
         },
         "mode": "lines",
         "name": "Heilongjiang",
         "orientation": "v",
         "showlegend": true,
         "type": "scatter",
         "x": [
          "2011",
          "2012",
          "2013",
          "2014",
          "2015",
          "2016",
          "2017",
          "2018",
          "2019",
          "2020",
          "2021",
          "2022"
         ],
         "xaxis": "x",
         "y": [
          60.883708,
          61.42818,
          61.982212,
          62.335376,
          62.786428,
          63.046596,
          63.268108,
          63.39654,
          63.536668,
          63.733528,
          63.982388,
          64.224444
         ],
         "yaxis": "y"
        },
        {
         "hovertemplate": "Province=Shanghai<br>Year=%{x}<br>Digital Economy Development Level=%{y}<extra></extra>",
         "legendgroup": "Shanghai",
         "line": {
          "color": "#FF97FF",
          "dash": "solid"
         },
         "marker": {
          "symbol": "circle"
         },
         "mode": "lines",
         "name": "Shanghai",
         "orientation": "v",
         "showlegend": true,
         "type": "scatter",
         "x": [
          "2011",
          "2012",
          "2013",
          "2014",
          "2015",
          "2016",
          "2017",
          "2018",
          "2019",
          "2020",
          "2021",
          "2022"
         ],
         "xaxis": "x",
         "y": [
          65.571788,
          66.912252,
          67.7706,
          69.8567,
          71.003432,
          72.0097,
          72.802004,
          73.772176,
          75.18622,
          76.323316,
          78.043984,
          79.954628
         ],
         "yaxis": "y"
        },
        {
         "hovertemplate": "Province=Jiangsu<br>Year=%{x}<br>Digital Economy Development Level=%{y}<extra></extra>",
         "legendgroup": "Jiangsu",
         "line": {
          "color": "#FECB52",
          "dash": "solid"
         },
         "marker": {
          "symbol": "circle"
         },
         "mode": "lines",
         "name": "Jiangsu",
         "orientation": "v",
         "showlegend": true,
         "type": "scatter",
         "x": [
          "2011",
          "2012",
          "2013",
          "2014",
          "2015",
          "2016",
          "2017",
          "2018",
          "2019",
          "2020",
          "2021",
          "2022"
         ],
         "xaxis": "x",
         "y": [
          67.446464,
          68.592348,
          69.77248,
          70.617648,
          71.757404,
          72.501272,
          73.628808,
          74.332184,
          75.097888,
          76.09914,
          77.034124,
          77.916244
         ],
         "yaxis": "y"
        },
        {
         "hovertemplate": "Province=Zhejiang<br>Year=%{x}<br>Digital Economy Development Level=%{y}<extra></extra>",
         "legendgroup": "Zhejiang",
         "line": {
          "color": "#636efa",
          "dash": "solid"
         },
         "marker": {
          "symbol": "circle"
         },
         "mode": "lines",
         "name": "Zhejiang",
         "orientation": "v",
         "showlegend": true,
         "type": "scatter",
         "x": [
          "2011",
          "2012",
          "2013",
          "2014",
          "2015",
          "2016",
          "2017",
          "2018",
          "2019",
          "2020",
          "2021",
          "2022"
         ],
         "xaxis": "x",
         "y": [
          65.561896,
          66.415412,
          67.268088,
          67.961892,
          69.6488,
          70.206712,
          71.069384,
          71.987992,
          73.13244,
          73.781872,
          74.846728,
          75.964592
         ],
         "yaxis": "y"
        },
        {
         "hovertemplate": "Province=Anhui<br>Year=%{x}<br>Digital Economy Development Level=%{y}<extra></extra>",
         "legendgroup": "Anhui",
         "line": {
          "color": "#EF553B",
          "dash": "solid"
         },
         "marker": {
          "symbol": "circle"
         },
         "mode": "lines",
         "name": "Anhui",
         "orientation": "v",
         "showlegend": true,
         "type": "scatter",
         "x": [
          "2011",
          "2012",
          "2013",
          "2014",
          "2015",
          "2016",
          "2017",
          "2018",
          "2019",
          "2020",
          "2021",
          "2022"
         ],
         "xaxis": "x",
         "y": [
          61.751792,
          62.460304,
          63.064788,
          63.654516,
          64.569312,
          65.020712,
          65.608436,
          66.292968,
          66.852488,
          67.157172,
          67.809024,
          68.421676
         ],
         "yaxis": "y"
        },
        {
         "hovertemplate": "Province=Fujian<br>Year=%{x}<br>Digital Economy Development Level=%{y}<extra></extra>",
         "legendgroup": "Fujian",
         "line": {
          "color": "#00cc96",
          "dash": "solid"
         },
         "marker": {
          "symbol": "circle"
         },
         "mode": "lines",
         "name": "Fujian",
         "orientation": "v",
         "showlegend": true,
         "type": "scatter",
         "x": [
          "2011",
          "2012",
          "2013",
          "2014",
          "2015",
          "2016",
          "2017",
          "2018",
          "2019",
          "2020",
          "2021",
          "2022"
         ],
         "xaxis": "x",
         "y": [
          62.742664,
          63.412352,
          63.990308,
          64.43764,
          65.266564,
          65.673332,
          66.346252,
          66.955272,
          67.333688,
          67.26696,
          67.784064,
          68.217492
         ],
         "yaxis": "y"
        },
        {
         "hovertemplate": "Province=Jiangxi<br>Year=%{x}<br>Digital Economy Development Level=%{y}<extra></extra>",
         "legendgroup": "Jiangxi",
         "line": {
          "color": "#ab63fa",
          "dash": "solid"
         },
         "marker": {
          "symbol": "circle"
         },
         "mode": "lines",
         "name": "Jiangxi",
         "orientation": "v",
         "showlegend": true,
         "type": "scatter",
         "x": [
          "2011",
          "2012",
          "2013",
          "2014",
          "2015",
          "2016",
          "2017",
          "2018",
          "2019",
          "2020",
          "2021",
          "2022"
         ],
         "xaxis": "x",
         "y": [
          61.3804,
          62.00996,
          62.557348,
          62.986568,
          63.806184,
          63.925756,
          64.601704,
          65.039496,
          65.495892,
          65.957144,
          66.467656,
          66.899424
         ],
         "yaxis": "y"
        },
        {
         "hovertemplate": "Province=Shandong<br>Year=%{x}<br>Digital Economy Development Level=%{y}<extra></extra>",
         "legendgroup": "Shandong",
         "line": {
          "color": "#FFA15A",
          "dash": "solid"
         },
         "marker": {
          "symbol": "circle"
         },
         "mode": "lines",
         "name": "Shandong",
         "orientation": "v",
         "showlegend": true,
         "type": "scatter",
         "x": [
          "2011",
          "2012",
          "2013",
          "2014",
          "2015",
          "2016",
          "2017",
          "2018",
          "2019",
          "2020",
          "2021",
          "2022"
         ],
         "xaxis": "x",
         "y": [
          63.429828,
          64.6334,
          65.816968,
          66.491028,
          67.557248,
          68.84026,
          69.81884,
          71.044108,
          70.823956,
          71.093,
          72.60064,
          74.154916
         ],
         "yaxis": "y"
        },
        {
         "hovertemplate": "Province=Henan<br>Year=%{x}<br>Digital Economy Development Level=%{y}<extra></extra>",
         "legendgroup": "Henan",
         "line": {
          "color": "#19d3f3",
          "dash": "solid"
         },
         "marker": {
          "symbol": "circle"
         },
         "mode": "lines",
         "name": "Henan",
         "orientation": "v",
         "showlegend": true,
         "type": "scatter",
         "x": [
          "2011",
          "2012",
          "2013",
          "2014",
          "2015",
          "2016",
          "2017",
          "2018",
          "2019",
          "2020",
          "2021",
          "2022"
         ],
         "xaxis": "x",
         "y": [
          61.68732,
          62.447528,
          63.186924,
          63.712832,
          64.605208,
          65.238304,
          65.597416,
          66.04304,
          66.14984,
          66.319976,
          66.88386,
          67.47768
         ],
         "yaxis": "y"
        },
        {
         "hovertemplate": "Province=Hubei<br>Year=%{x}<br>Digital Economy Development Level=%{y}<extra></extra>",
         "legendgroup": "Hubei",
         "line": {
          "color": "#FF6692",
          "dash": "solid"
         },
         "marker": {
          "symbol": "circle"
         },
         "mode": "lines",
         "name": "Hubei",
         "orientation": "v",
         "showlegend": true,
         "type": "scatter",
         "x": [
          "2011",
          "2012",
          "2013",
          "2014",
          "2015",
          "2016",
          "2017",
          "2018",
          "2019",
          "2020",
          "2021",
          "2022"
         ],
         "xaxis": "x",
         "y": [
          61.806448,
          62.523068,
          63.306868,
          63.767804,
          64.578132,
          65.168088,
          65.636856,
          66.122308,
          66.688476,
          66.945648,
          67.494424,
          68.008888
         ],
         "yaxis": "y"
        },
        {
         "hovertemplate": "Province=Hunan<br>Year=%{x}<br>Digital Economy Development Level=%{y}<extra></extra>",
         "legendgroup": "Hunan",
         "line": {
          "color": "#B6E880",
          "dash": "solid"
         },
         "marker": {
          "symbol": "circle"
         },
         "mode": "lines",
         "name": "Hunan",
         "orientation": "v",
         "showlegend": true,
         "type": "scatter",
         "x": [
          "2011",
          "2012",
          "2013",
          "2014",
          "2015",
          "2016",
          "2017",
          "2018",
          "2019",
          "2020",
          "2021",
          "2022"
         ],
         "xaxis": "x",
         "y": [
          61.75466,
          62.487072,
          63.087904,
          63.515936,
          64.138812,
          64.568708,
          64.9965,
          65.653076,
          65.978492,
          66.562492,
          67.127604,
          67.7221
         ],
         "yaxis": "y"
        },
        {
         "hovertemplate": "Province=Guangdong<br>Year=%{x}<br>Digital Economy Development Level=%{y}<extra></extra>",
         "legendgroup": "Guangdong",
         "line": {
          "color": "#FF97FF",
          "dash": "solid"
         },
         "marker": {
          "symbol": "circle"
         },
         "mode": "lines",
         "name": "Guangdong",
         "orientation": "v",
         "showlegend": true,
         "type": "scatter",
         "x": [
          "2011",
          "2012",
          "2013",
          "2014",
          "2015",
          "2016",
          "2017",
          "2018",
          "2019",
          "2020",
          "2021",
          "2022"
         ],
         "xaxis": "x",
         "y": [
          68.76888,
          70.446516,
          72.10108,
          73.384872,
          74.861016,
          76.508476,
          78.071236,
          80.533944,
          82.65566,
          83.911788,
          86.2045,
          88.481248
         ],
         "yaxis": "y"
        },
        {
         "hovertemplate": "Province=Guangxi<br>Year=%{x}<br>Digital Economy Development Level=%{y}<extra></extra>",
         "legendgroup": "Guangxi",
         "line": {
          "color": "#FECB52",
          "dash": "solid"
         },
         "marker": {
          "symbol": "circle"
         },
         "mode": "lines",
         "name": "Guangxi",
         "orientation": "v",
         "showlegend": true,
         "type": "scatter",
         "x": [
          "2011",
          "2012",
          "2013",
          "2014",
          "2015",
          "2016",
          "2017",
          "2018",
          "2019",
          "2020",
          "2021",
          "2022"
         ],
         "xaxis": "x",
         "y": [
          61.258812,
          61.765412,
          62.185008,
          62.55674,
          63.028964,
          63.439036,
          63.685736,
          64.17904,
          64.682024,
          65.093984,
          65.487512,
          65.887392
         ],
         "yaxis": "y"
        },
        {
         "hovertemplate": "Province=Hainan<br>Year=%{x}<br>Digital Economy Development Level=%{y}<extra></extra>",
         "legendgroup": "Hainan",
         "line": {
          "color": "#636efa",
          "dash": "solid"
         },
         "marker": {
          "symbol": "circle"
         },
         "mode": "lines",
         "name": "Hainan",
         "orientation": "v",
         "showlegend": true,
         "type": "scatter",
         "x": [
          "2011",
          "2012",
          "2013",
          "2014",
          "2015",
          "2016",
          "2017",
          "2018",
          "2019",
          "2020",
          "2021",
          "2022"
         ],
         "xaxis": "x",
         "y": [
          60.998388,
          61.695168,
          62.154912,
          62.679452,
          63.419292,
          63.58582,
          63.723372,
          63.950392,
          64.108676,
          64.176204,
          64.459048,
          64.638196
         ],
         "yaxis": "y"
        },
        {
         "hovertemplate": "Province=Chongqing<br>Year=%{x}<br>Digital Economy Development Level=%{y}<extra></extra>",
         "legendgroup": "Chongqing",
         "line": {
          "color": "#EF553B",
          "dash": "solid"
         },
         "marker": {
          "symbol": "circle"
         },
         "mode": "lines",
         "name": "Chongqing",
         "orientation": "v",
         "showlegend": true,
         "type": "scatter",
         "x": [
          "2011",
          "2012",
          "2013",
          "2014",
          "2015",
          "2016",
          "2017",
          "2018",
          "2019",
          "2020",
          "2021",
          "2022"
         ],
         "xaxis": "x",
         "y": [
          61.439184,
          62.031944,
          62.746808,
          63.355932,
          64.117956,
          64.752328,
          65.269548,
          65.820768,
          66.256748,
          66.709272,
          67.310024,
          67.848652
         ],
         "yaxis": "y"
        },
        {
         "hovertemplate": "Province=Sichuan<br>Year=%{x}<br>Digital Economy Development Level=%{y}<extra></extra>",
         "legendgroup": "Sichuan",
         "line": {
          "color": "#00cc96",
          "dash": "solid"
         },
         "marker": {
          "symbol": "circle"
         },
         "mode": "lines",
         "name": "Sichuan",
         "orientation": "v",
         "showlegend": true,
         "type": "scatter",
         "x": [
          "2011",
          "2012",
          "2013",
          "2014",
          "2015",
          "2016",
          "2017",
          "2018",
          "2019",
          "2020",
          "2021",
          "2022"
         ],
         "xaxis": "x",
         "y": [
          62.050548,
          62.82058,
          63.63302,
          64.193844,
          65.133748,
          65.770416,
          66.570264,
          67.265292,
          68.080984,
          68.592344,
          69.196928,
          69.678788
         ],
         "yaxis": "y"
        },
        {
         "hovertemplate": "Province=Guizhou<br>Year=%{x}<br>Digital Economy Development Level=%{y}<extra></extra>",
         "legendgroup": "Guizhou",
         "line": {
          "color": "#ab63fa",
          "dash": "solid"
         },
         "marker": {
          "symbol": "circle"
         },
         "mode": "lines",
         "name": "Guizhou",
         "orientation": "v",
         "showlegend": true,
         "type": "scatter",
         "x": [
          "2011",
          "2012",
          "2013",
          "2014",
          "2015",
          "2016",
          "2017",
          "2018",
          "2019",
          "2020",
          "2021",
          "2022"
         ],
         "xaxis": "x",
         "y": [
          60.679452,
          61.202672,
          61.73862,
          62.141348,
          62.797096,
          63.293748,
          63.550596,
          63.898712,
          64.06182,
          64.190972,
          64.586968,
          64.951052
         ],
         "yaxis": "y"
        },
        {
         "hovertemplate": "Province=Yunnan<br>Year=%{x}<br>Digital Economy Development Level=%{y}<extra></extra>",
         "legendgroup": "Yunnan",
         "line": {
          "color": "#FFA15A",
          "dash": "solid"
         },
         "marker": {
          "symbol": "circle"
         },
         "mode": "lines",
         "name": "Yunnan",
         "orientation": "v",
         "showlegend": true,
         "type": "scatter",
         "x": [
          "2011",
          "2012",
          "2013",
          "2014",
          "2015",
          "2016",
          "2017",
          "2018",
          "2019",
          "2020",
          "2021",
          "2022"
         ],
         "xaxis": "x",
         "y": [
          61.012744,
          61.547208,
          62.031672,
          62.430808,
          63.119068,
          63.397684,
          63.568776,
          63.887936,
          64.153908,
          64.438208,
          64.673336,
          64.899328
         ],
         "yaxis": "y"
        },
        {
         "hovertemplate": "Province=Shaanxi<br>Year=%{x}<br>Digital Economy Development Level=%{y}<extra></extra>",
         "legendgroup": "Shaanxi",
         "line": {
          "color": "#19d3f3",
          "dash": "solid"
         },
         "marker": {
          "symbol": "circle"
         },
         "mode": "lines",
         "name": "Shaanxi",
         "orientation": "v",
         "showlegend": true,
         "type": "scatter",
         "x": [
          "2011",
          "2012",
          "2013",
          "2014",
          "2015",
          "2016",
          "2017",
          "2018",
          "2019",
          "2020",
          "2021",
          "2022"
         ],
         "xaxis": "x",
         "y": [
          61.417904,
          62.014592,
          62.649176,
          63.129164,
          63.81872,
          64.340344,
          64.670604,
          65.172376,
          65.732244,
          65.969044,
          66.57324,
          67.060432
         ],
         "yaxis": "y"
        },
        {
         "hovertemplate": "Province=Gansu<br>Year=%{x}<br>Digital Economy Development Level=%{y}<extra></extra>",
         "legendgroup": "Gansu",
         "line": {
          "color": "#FF6692",
          "dash": "solid"
         },
         "marker": {
          "symbol": "circle"
         },
         "mode": "lines",
         "name": "Gansu",
         "orientation": "v",
         "showlegend": true,
         "type": "scatter",
         "x": [
          "2011",
          "2012",
          "2013",
          "2014",
          "2015",
          "2016",
          "2017",
          "2018",
          "2019",
          "2020",
          "2021",
          "2022"
         ],
         "xaxis": "x",
         "y": [
          60.679184,
          61.217628,
          61.668236,
          62.025508,
          62.627716,
          62.745144,
          62.897536,
          63.131476,
          63.322852,
          63.496976,
          63.820964,
          64.07494
         ],
         "yaxis": "y"
        },
        {
         "hovertemplate": "Province=Qinghai<br>Year=%{x}<br>Digital Economy Development Level=%{y}<extra></extra>",
         "legendgroup": "Qinghai",
         "line": {
          "color": "#B6E880",
          "dash": "solid"
         },
         "marker": {
          "symbol": "circle"
         },
         "mode": "lines",
         "name": "Qinghai",
         "orientation": "v",
         "showlegend": true,
         "type": "scatter",
         "x": [
          "2011",
          "2012",
          "2013",
          "2014",
          "2015",
          "2016",
          "2017",
          "2018",
          "2019",
          "2020",
          "2021",
          "2022"
         ],
         "xaxis": "x",
         "y": [
          60.694708,
          60.964952,
          61.435044,
          61.69052,
          62.374156,
          62.516272,
          62.642772,
          62.832176,
          62.923456,
          63.063484,
          63.435864,
          63.780824
         ],
         "yaxis": "y"
        },
        {
         "hovertemplate": "Province=Ningxia<br>Year=%{x}<br>Digital Economy Development Level=%{y}<extra></extra>",
         "legendgroup": "Ningxia",
         "line": {
          "color": "#FF97FF",
          "dash": "solid"
         },
         "marker": {
          "symbol": "circle"
         },
         "mode": "lines",
         "name": "Ningxia",
         "orientation": "v",
         "showlegend": true,
         "type": "scatter",
         "x": [
          "2011",
          "2012",
          "2013",
          "2014",
          "2015",
          "2016",
          "2017",
          "2018",
          "2019",
          "2020",
          "2021",
          "2022"
         ],
         "xaxis": "x",
         "y": [
          60.833932,
          61.341764,
          61.707812,
          62.087536,
          62.627452,
          62.698292,
          62.907872,
          63.115564,
          63.157192,
          63.282708,
          63.561972,
          63.8109
         ],
         "yaxis": "y"
        },
        {
         "hovertemplate": "Province=Xinjiang<br>Year=%{x}<br>Digital Economy Development Level=%{y}<extra></extra>",
         "legendgroup": "Xinjiang",
         "line": {
          "color": "#FECB52",
          "dash": "solid"
         },
         "marker": {
          "symbol": "circle"
         },
         "mode": "lines",
         "name": "Xinjiang",
         "orientation": "v",
         "showlegend": true,
         "type": "scatter",
         "x": [
          "2011",
          "2012",
          "2013",
          "2014",
          "2015",
          "2016",
          "2017",
          "2018",
          "2019",
          "2020",
          "2021",
          "2022"
         ],
         "xaxis": "x",
         "y": [
          60.85282,
          61.37846,
          61.818788,
          62.035784,
          62.550196,
          62.523388,
          62.73456,
          63.08662,
          63.247532,
          63.37118,
          63.7046,
          63.900884
         ],
         "yaxis": "y"
        }
       ],
       "layout": {
        "legend": {
         "title": {
          "text": "Province"
         },
         "tracegroupgap": 0
        },
        "template": {
         "data": {
          "bar": [
           {
            "error_x": {
             "color": "#2a3f5f"
            },
            "error_y": {
             "color": "#2a3f5f"
            },
            "marker": {
             "line": {
              "color": "#E5ECF6",
              "width": 0.5
             },
             "pattern": {
              "fillmode": "overlay",
              "size": 10,
              "solidity": 0.2
             }
            },
            "type": "bar"
           }
          ],
          "barpolar": [
           {
            "marker": {
             "line": {
              "color": "#E5ECF6",
              "width": 0.5
             },
             "pattern": {
              "fillmode": "overlay",
              "size": 10,
              "solidity": 0.2
             }
            },
            "type": "barpolar"
           }
          ],
          "carpet": [
           {
            "aaxis": {
             "endlinecolor": "#2a3f5f",
             "gridcolor": "white",
             "linecolor": "white",
             "minorgridcolor": "white",
             "startlinecolor": "#2a3f5f"
            },
            "baxis": {
             "endlinecolor": "#2a3f5f",
             "gridcolor": "white",
             "linecolor": "white",
             "minorgridcolor": "white",
             "startlinecolor": "#2a3f5f"
            },
            "type": "carpet"
           }
          ],
          "choropleth": [
           {
            "colorbar": {
             "outlinewidth": 0,
             "ticks": ""
            },
            "type": "choropleth"
           }
          ],
          "contour": [
           {
            "colorbar": {
             "outlinewidth": 0,
             "ticks": ""
            },
            "colorscale": [
             [
              0,
              "#0d0887"
             ],
             [
              0.1111111111111111,
              "#46039f"
             ],
             [
              0.2222222222222222,
              "#7201a8"
             ],
             [
              0.3333333333333333,
              "#9c179e"
             ],
             [
              0.4444444444444444,
              "#bd3786"
             ],
             [
              0.5555555555555556,
              "#d8576b"
             ],
             [
              0.6666666666666666,
              "#ed7953"
             ],
             [
              0.7777777777777778,
              "#fb9f3a"
             ],
             [
              0.8888888888888888,
              "#fdca26"
             ],
             [
              1,
              "#f0f921"
             ]
            ],
            "type": "contour"
           }
          ],
          "contourcarpet": [
           {
            "colorbar": {
             "outlinewidth": 0,
             "ticks": ""
            },
            "type": "contourcarpet"
           }
          ],
          "heatmap": [
           {
            "colorbar": {
             "outlinewidth": 0,
             "ticks": ""
            },
            "colorscale": [
             [
              0,
              "#0d0887"
             ],
             [
              0.1111111111111111,
              "#46039f"
             ],
             [
              0.2222222222222222,
              "#7201a8"
             ],
             [
              0.3333333333333333,
              "#9c179e"
             ],
             [
              0.4444444444444444,
              "#bd3786"
             ],
             [
              0.5555555555555556,
              "#d8576b"
             ],
             [
              0.6666666666666666,
              "#ed7953"
             ],
             [
              0.7777777777777778,
              "#fb9f3a"
             ],
             [
              0.8888888888888888,
              "#fdca26"
             ],
             [
              1,
              "#f0f921"
             ]
            ],
            "type": "heatmap"
           }
          ],
          "heatmapgl": [
           {
            "colorbar": {
             "outlinewidth": 0,
             "ticks": ""
            },
            "colorscale": [
             [
              0,
              "#0d0887"
             ],
             [
              0.1111111111111111,
              "#46039f"
             ],
             [
              0.2222222222222222,
              "#7201a8"
             ],
             [
              0.3333333333333333,
              "#9c179e"
             ],
             [
              0.4444444444444444,
              "#bd3786"
             ],
             [
              0.5555555555555556,
              "#d8576b"
             ],
             [
              0.6666666666666666,
              "#ed7953"
             ],
             [
              0.7777777777777778,
              "#fb9f3a"
             ],
             [
              0.8888888888888888,
              "#fdca26"
             ],
             [
              1,
              "#f0f921"
             ]
            ],
            "type": "heatmapgl"
           }
          ],
          "histogram": [
           {
            "marker": {
             "pattern": {
              "fillmode": "overlay",
              "size": 10,
              "solidity": 0.2
             }
            },
            "type": "histogram"
           }
          ],
          "histogram2d": [
           {
            "colorbar": {
             "outlinewidth": 0,
             "ticks": ""
            },
            "colorscale": [
             [
              0,
              "#0d0887"
             ],
             [
              0.1111111111111111,
              "#46039f"
             ],
             [
              0.2222222222222222,
              "#7201a8"
             ],
             [
              0.3333333333333333,
              "#9c179e"
             ],
             [
              0.4444444444444444,
              "#bd3786"
             ],
             [
              0.5555555555555556,
              "#d8576b"
             ],
             [
              0.6666666666666666,
              "#ed7953"
             ],
             [
              0.7777777777777778,
              "#fb9f3a"
             ],
             [
              0.8888888888888888,
              "#fdca26"
             ],
             [
              1,
              "#f0f921"
             ]
            ],
            "type": "histogram2d"
           }
          ],
          "histogram2dcontour": [
           {
            "colorbar": {
             "outlinewidth": 0,
             "ticks": ""
            },
            "colorscale": [
             [
              0,
              "#0d0887"
             ],
             [
              0.1111111111111111,
              "#46039f"
             ],
             [
              0.2222222222222222,
              "#7201a8"
             ],
             [
              0.3333333333333333,
              "#9c179e"
             ],
             [
              0.4444444444444444,
              "#bd3786"
             ],
             [
              0.5555555555555556,
              "#d8576b"
             ],
             [
              0.6666666666666666,
              "#ed7953"
             ],
             [
              0.7777777777777778,
              "#fb9f3a"
             ],
             [
              0.8888888888888888,
              "#fdca26"
             ],
             [
              1,
              "#f0f921"
             ]
            ],
            "type": "histogram2dcontour"
           }
          ],
          "mesh3d": [
           {
            "colorbar": {
             "outlinewidth": 0,
             "ticks": ""
            },
            "type": "mesh3d"
           }
          ],
          "parcoords": [
           {
            "line": {
             "colorbar": {
              "outlinewidth": 0,
              "ticks": ""
             }
            },
            "type": "parcoords"
           }
          ],
          "pie": [
           {
            "automargin": true,
            "type": "pie"
           }
          ],
          "scatter": [
           {
            "fillpattern": {
             "fillmode": "overlay",
             "size": 10,
             "solidity": 0.2
            },
            "type": "scatter"
           }
          ],
          "scatter3d": [
           {
            "line": {
             "colorbar": {
              "outlinewidth": 0,
              "ticks": ""
             }
            },
            "marker": {
             "colorbar": {
              "outlinewidth": 0,
              "ticks": ""
             }
            },
            "type": "scatter3d"
           }
          ],
          "scattercarpet": [
           {
            "marker": {
             "colorbar": {
              "outlinewidth": 0,
              "ticks": ""
             }
            },
            "type": "scattercarpet"
           }
          ],
          "scattergeo": [
           {
            "marker": {
             "colorbar": {
              "outlinewidth": 0,
              "ticks": ""
             }
            },
            "type": "scattergeo"
           }
          ],
          "scattergl": [
           {
            "marker": {
             "colorbar": {
              "outlinewidth": 0,
              "ticks": ""
             }
            },
            "type": "scattergl"
           }
          ],
          "scattermapbox": [
           {
            "marker": {
             "colorbar": {
              "outlinewidth": 0,
              "ticks": ""
             }
            },
            "type": "scattermapbox"
           }
          ],
          "scatterpolar": [
           {
            "marker": {
             "colorbar": {
              "outlinewidth": 0,
              "ticks": ""
             }
            },
            "type": "scatterpolar"
           }
          ],
          "scatterpolargl": [
           {
            "marker": {
             "colorbar": {
              "outlinewidth": 0,
              "ticks": ""
             }
            },
            "type": "scatterpolargl"
           }
          ],
          "scatterternary": [
           {
            "marker": {
             "colorbar": {
              "outlinewidth": 0,
              "ticks": ""
             }
            },
            "type": "scatterternary"
           }
          ],
          "surface": [
           {
            "colorbar": {
             "outlinewidth": 0,
             "ticks": ""
            },
            "colorscale": [
             [
              0,
              "#0d0887"
             ],
             [
              0.1111111111111111,
              "#46039f"
             ],
             [
              0.2222222222222222,
              "#7201a8"
             ],
             [
              0.3333333333333333,
              "#9c179e"
             ],
             [
              0.4444444444444444,
              "#bd3786"
             ],
             [
              0.5555555555555556,
              "#d8576b"
             ],
             [
              0.6666666666666666,
              "#ed7953"
             ],
             [
              0.7777777777777778,
              "#fb9f3a"
             ],
             [
              0.8888888888888888,
              "#fdca26"
             ],
             [
              1,
              "#f0f921"
             ]
            ],
            "type": "surface"
           }
          ],
          "table": [
           {
            "cells": {
             "fill": {
              "color": "#EBF0F8"
             },
             "line": {
              "color": "white"
             }
            },
            "header": {
             "fill": {
              "color": "#C8D4E3"
             },
             "line": {
              "color": "white"
             }
            },
            "type": "table"
           }
          ]
         },
         "layout": {
          "annotationdefaults": {
           "arrowcolor": "#2a3f5f",
           "arrowhead": 0,
           "arrowwidth": 1
          },
          "autotypenumbers": "strict",
          "coloraxis": {
           "colorbar": {
            "outlinewidth": 0,
            "ticks": ""
           }
          },
          "colorscale": {
           "diverging": [
            [
             0,
             "#8e0152"
            ],
            [
             0.1,
             "#c51b7d"
            ],
            [
             0.2,
             "#de77ae"
            ],
            [
             0.3,
             "#f1b6da"
            ],
            [
             0.4,
             "#fde0ef"
            ],
            [
             0.5,
             "#f7f7f7"
            ],
            [
             0.6,
             "#e6f5d0"
            ],
            [
             0.7,
             "#b8e186"
            ],
            [
             0.8,
             "#7fbc41"
            ],
            [
             0.9,
             "#4d9221"
            ],
            [
             1,
             "#276419"
            ]
           ],
           "sequential": [
            [
             0,
             "#0d0887"
            ],
            [
             0.1111111111111111,
             "#46039f"
            ],
            [
             0.2222222222222222,
             "#7201a8"
            ],
            [
             0.3333333333333333,
             "#9c179e"
            ],
            [
             0.4444444444444444,
             "#bd3786"
            ],
            [
             0.5555555555555556,
             "#d8576b"
            ],
            [
             0.6666666666666666,
             "#ed7953"
            ],
            [
             0.7777777777777778,
             "#fb9f3a"
            ],
            [
             0.8888888888888888,
             "#fdca26"
            ],
            [
             1,
             "#f0f921"
            ]
           ],
           "sequentialminus": [
            [
             0,
             "#0d0887"
            ],
            [
             0.1111111111111111,
             "#46039f"
            ],
            [
             0.2222222222222222,
             "#7201a8"
            ],
            [
             0.3333333333333333,
             "#9c179e"
            ],
            [
             0.4444444444444444,
             "#bd3786"
            ],
            [
             0.5555555555555556,
             "#d8576b"
            ],
            [
             0.6666666666666666,
             "#ed7953"
            ],
            [
             0.7777777777777778,
             "#fb9f3a"
            ],
            [
             0.8888888888888888,
             "#fdca26"
            ],
            [
             1,
             "#f0f921"
            ]
           ]
          },
          "colorway": [
           "#636efa",
           "#EF553B",
           "#00cc96",
           "#ab63fa",
           "#FFA15A",
           "#19d3f3",
           "#FF6692",
           "#B6E880",
           "#FF97FF",
           "#FECB52"
          ],
          "font": {
           "color": "#2a3f5f"
          },
          "geo": {
           "bgcolor": "white",
           "lakecolor": "white",
           "landcolor": "#E5ECF6",
           "showlakes": true,
           "showland": true,
           "subunitcolor": "white"
          },
          "hoverlabel": {
           "align": "left"
          },
          "hovermode": "closest",
          "mapbox": {
           "style": "light"
          },
          "paper_bgcolor": "white",
          "plot_bgcolor": "#E5ECF6",
          "polar": {
           "angularaxis": {
            "gridcolor": "white",
            "linecolor": "white",
            "ticks": ""
           },
           "bgcolor": "#E5ECF6",
           "radialaxis": {
            "gridcolor": "white",
            "linecolor": "white",
            "ticks": ""
           }
          },
          "scene": {
           "xaxis": {
            "backgroundcolor": "#E5ECF6",
            "gridcolor": "white",
            "gridwidth": 2,
            "linecolor": "white",
            "showbackground": true,
            "ticks": "",
            "zerolinecolor": "white"
           },
           "yaxis": {
            "backgroundcolor": "#E5ECF6",
            "gridcolor": "white",
            "gridwidth": 2,
            "linecolor": "white",
            "showbackground": true,
            "ticks": "",
            "zerolinecolor": "white"
           },
           "zaxis": {
            "backgroundcolor": "#E5ECF6",
            "gridcolor": "white",
            "gridwidth": 2,
            "linecolor": "white",
            "showbackground": true,
            "ticks": "",
            "zerolinecolor": "white"
           }
          },
          "shapedefaults": {
           "line": {
            "color": "#2a3f5f"
           }
          },
          "ternary": {
           "aaxis": {
            "gridcolor": "white",
            "linecolor": "white",
            "ticks": ""
           },
           "baxis": {
            "gridcolor": "white",
            "linecolor": "white",
            "ticks": ""
           },
           "bgcolor": "#E5ECF6",
           "caxis": {
            "gridcolor": "white",
            "linecolor": "white",
            "ticks": ""
           }
          },
          "title": {
           "x": 0.05
          },
          "xaxis": {
           "automargin": true,
           "gridcolor": "white",
           "linecolor": "white",
           "ticks": "",
           "title": {
            "standoff": 15
           },
           "zerolinecolor": "white",
           "zerolinewidth": 2
          },
          "yaxis": {
           "automargin": true,
           "gridcolor": "white",
           "linecolor": "white",
           "ticks": "",
           "title": {
            "standoff": 15
           },
           "zerolinecolor": "white",
           "zerolinewidth": 2
          }
         }
        },
        "title": {
         "text": "Digital Economy Development Level by Province (2011-2022)"
        },
        "xaxis": {
         "anchor": "y",
         "domain": [
          0,
          1
         ],
         "tickmode": "linear",
         "title": {
          "text": "Year"
         }
        },
        "yaxis": {
         "anchor": "x",
         "domain": [
          0,
          1
         ],
         "title": {
          "text": "Digital Economy Development Level"
         }
        }
       }
      },
      "text/html": [
       "<div>                            <div id=\"38b973ac-c4e8-4bbe-886f-a80591187f6d\" class=\"plotly-graph-div\" style=\"height:525px; width:100%;\"></div>            <script type=\"text/javascript\">                require([\"plotly\"], function(Plotly) {                    window.PLOTLYENV=window.PLOTLYENV || {};                                    if (document.getElementById(\"38b973ac-c4e8-4bbe-886f-a80591187f6d\")) {                    Plotly.newPlot(                        \"38b973ac-c4e8-4bbe-886f-a80591187f6d\",                        [{\"hovertemplate\":\"Province=Beijing<br>Year=%{x}<br>Digital Economy Development Level=%{y}<extra></extra>\",\"legendgroup\":\"Beijing\",\"line\":{\"color\":\"#636efa\",\"dash\":\"solid\"},\"marker\":{\"symbol\":\"circle\"},\"mode\":\"lines\",\"name\":\"Beijing\",\"orientation\":\"v\",\"showlegend\":true,\"x\":[\"2011\",\"2012\",\"2013\",\"2014\",\"2015\",\"2016\",\"2017\",\"2018\",\"2019\",\"2020\",\"2021\",\"2022\"],\"xaxis\":\"x\",\"y\":[68.934384,70.26082,71.416564,72.585072,73.912632,74.586284,75.600264,77.155264,78.833644,80.613072,83.029272,85.410308],\"yaxis\":\"y\",\"type\":\"scatter\"},{\"hovertemplate\":\"Province=Tianjin<br>Year=%{x}<br>Digital Economy Development Level=%{y}<extra></extra>\",\"legendgroup\":\"Tianjin\",\"line\":{\"color\":\"#EF553B\",\"dash\":\"solid\"},\"marker\":{\"symbol\":\"circle\"},\"mode\":\"lines\",\"name\":\"Tianjin\",\"orientation\":\"v\",\"showlegend\":true,\"x\":[\"2011\",\"2012\",\"2013\",\"2014\",\"2015\",\"2016\",\"2017\",\"2018\",\"2019\",\"2020\",\"2021\",\"2022\"],\"xaxis\":\"x\",\"y\":[62.3385,62.93706,63.288972,63.750256,64.443292,64.56886,64.803924,65.259596,66.103076,66.54756,66.818704,67.325092],\"yaxis\":\"y\",\"type\":\"scatter\"},{\"hovertemplate\":\"Province=Hebei<br>Year=%{x}<br>Digital Economy Development Level=%{y}<extra></extra>\",\"legendgroup\":\"Hebei\",\"line\":{\"color\":\"#00cc96\",\"dash\":\"solid\"},\"marker\":{\"symbol\":\"circle\"},\"mode\":\"lines\",\"name\":\"Hebei\",\"orientation\":\"v\",\"showlegend\":true,\"x\":[\"2011\",\"2012\",\"2013\",\"2014\",\"2015\",\"2016\",\"2017\",\"2018\",\"2019\",\"2020\",\"2021\",\"2022\"],\"xaxis\":\"x\",\"y\":[61.832556,62.516868,63.154896,63.494508,64.131416,64.742176,65.300584,65.548052,65.776804,66.047272,66.44716,66.801072],\"yaxis\":\"y\",\"type\":\"scatter\"},{\"hovertemplate\":\"Province=Shanxi<br>Year=%{x}<br>Digital Economy Development Level=%{y}<extra></extra>\",\"legendgroup\":\"Shanxi\",\"line\":{\"color\":\"#ab63fa\",\"dash\":\"solid\"},\"marker\":{\"symbol\":\"circle\"},\"mode\":\"lines\",\"name\":\"Shanxi\",\"orientation\":\"v\",\"showlegend\":true,\"x\":[\"2011\",\"2012\",\"2013\",\"2014\",\"2015\",\"2016\",\"2017\",\"2018\",\"2019\",\"2020\",\"2021\",\"2022\"],\"xaxis\":\"x\",\"y\":[61.15062,61.65632,62.14592,62.47304,63.006584,63.325532,63.572368,63.987116,64.155556,64.355504,64.80262,65.249244],\"yaxis\":\"y\",\"type\":\"scatter\"},{\"hovertemplate\":\"Province=Neimeng<br>Year=%{x}<br>Digital Economy Development Level=%{y}<extra></extra>\",\"legendgroup\":\"Neimeng\",\"line\":{\"color\":\"#FFA15A\",\"dash\":\"solid\"},\"marker\":{\"symbol\":\"circle\"},\"mode\":\"lines\",\"name\":\"Neimeng\",\"orientation\":\"v\",\"showlegend\":true,\"x\":[\"2011\",\"2012\",\"2013\",\"2014\",\"2015\",\"2016\",\"2017\",\"2018\",\"2019\",\"2020\",\"2021\",\"2022\"],\"xaxis\":\"x\",\"y\":[60.945892,61.434344,61.963868,62.224652,62.806176,63.105004,63.28686,63.370072,63.566952,63.798836,64.301016,64.686664],\"yaxis\":\"y\",\"type\":\"scatter\"},{\"hovertemplate\":\"Province=Liaoning<br>Year=%{x}<br>Digital Economy Development Level=%{y}<extra></extra>\",\"legendgroup\":\"Liaoning\",\"line\":{\"color\":\"#19d3f3\",\"dash\":\"solid\"},\"marker\":{\"symbol\":\"circle\"},\"mode\":\"lines\",\"name\":\"Liaoning\",\"orientation\":\"v\",\"showlegend\":true,\"x\":[\"2011\",\"2012\",\"2013\",\"2014\",\"2015\",\"2016\",\"2017\",\"2018\",\"2019\",\"2020\",\"2021\",\"2022\"],\"xaxis\":\"x\",\"y\":[62.613576,63.292356,64.120008,64.616404,65.300584,65.116204,65.350416,65.650004,65.993916,66.224904,66.46412,66.719924],\"yaxis\":\"y\",\"type\":\"scatter\"},{\"hovertemplate\":\"Province=Jilin<br>Year=%{x}<br>Digital Economy Development Level=%{y}<extra></extra>\",\"legendgroup\":\"Jilin\",\"line\":{\"color\":\"#FF6692\",\"dash\":\"solid\"},\"marker\":{\"symbol\":\"circle\"},\"mode\":\"lines\",\"name\":\"Jilin\",\"orientation\":\"v\",\"showlegend\":true,\"x\":[\"2011\",\"2012\",\"2013\",\"2014\",\"2015\",\"2016\",\"2017\",\"2018\",\"2019\",\"2020\",\"2021\",\"2022\"],\"xaxis\":\"x\",\"y\":[61.014004,61.570748,62.012356,62.34528,62.845984,63.046544,63.344696,63.619268,63.637704,63.833348,64.054484,64.264652],\"yaxis\":\"y\",\"type\":\"scatter\"},{\"hovertemplate\":\"Province=Heilongjiang<br>Year=%{x}<br>Digital Economy Development Level=%{y}<extra></extra>\",\"legendgroup\":\"Heilongjiang\",\"line\":{\"color\":\"#B6E880\",\"dash\":\"solid\"},\"marker\":{\"symbol\":\"circle\"},\"mode\":\"lines\",\"name\":\"Heilongjiang\",\"orientation\":\"v\",\"showlegend\":true,\"x\":[\"2011\",\"2012\",\"2013\",\"2014\",\"2015\",\"2016\",\"2017\",\"2018\",\"2019\",\"2020\",\"2021\",\"2022\"],\"xaxis\":\"x\",\"y\":[60.883708,61.42818,61.982212,62.335376,62.786428,63.046596,63.268108,63.39654,63.536668,63.733528,63.982388,64.224444],\"yaxis\":\"y\",\"type\":\"scatter\"},{\"hovertemplate\":\"Province=Shanghai<br>Year=%{x}<br>Digital Economy Development Level=%{y}<extra></extra>\",\"legendgroup\":\"Shanghai\",\"line\":{\"color\":\"#FF97FF\",\"dash\":\"solid\"},\"marker\":{\"symbol\":\"circle\"},\"mode\":\"lines\",\"name\":\"Shanghai\",\"orientation\":\"v\",\"showlegend\":true,\"x\":[\"2011\",\"2012\",\"2013\",\"2014\",\"2015\",\"2016\",\"2017\",\"2018\",\"2019\",\"2020\",\"2021\",\"2022\"],\"xaxis\":\"x\",\"y\":[65.571788,66.912252,67.7706,69.8567,71.003432,72.0097,72.802004,73.772176,75.18622,76.323316,78.043984,79.954628],\"yaxis\":\"y\",\"type\":\"scatter\"},{\"hovertemplate\":\"Province=Jiangsu<br>Year=%{x}<br>Digital Economy Development Level=%{y}<extra></extra>\",\"legendgroup\":\"Jiangsu\",\"line\":{\"color\":\"#FECB52\",\"dash\":\"solid\"},\"marker\":{\"symbol\":\"circle\"},\"mode\":\"lines\",\"name\":\"Jiangsu\",\"orientation\":\"v\",\"showlegend\":true,\"x\":[\"2011\",\"2012\",\"2013\",\"2014\",\"2015\",\"2016\",\"2017\",\"2018\",\"2019\",\"2020\",\"2021\",\"2022\"],\"xaxis\":\"x\",\"y\":[67.446464,68.592348,69.77248,70.617648,71.757404,72.501272,73.628808,74.332184,75.097888,76.09914,77.034124,77.916244],\"yaxis\":\"y\",\"type\":\"scatter\"},{\"hovertemplate\":\"Province=Zhejiang<br>Year=%{x}<br>Digital Economy Development Level=%{y}<extra></extra>\",\"legendgroup\":\"Zhejiang\",\"line\":{\"color\":\"#636efa\",\"dash\":\"solid\"},\"marker\":{\"symbol\":\"circle\"},\"mode\":\"lines\",\"name\":\"Zhejiang\",\"orientation\":\"v\",\"showlegend\":true,\"x\":[\"2011\",\"2012\",\"2013\",\"2014\",\"2015\",\"2016\",\"2017\",\"2018\",\"2019\",\"2020\",\"2021\",\"2022\"],\"xaxis\":\"x\",\"y\":[65.561896,66.415412,67.268088,67.961892,69.6488,70.206712,71.069384,71.987992,73.13244,73.781872,74.846728,75.964592],\"yaxis\":\"y\",\"type\":\"scatter\"},{\"hovertemplate\":\"Province=Anhui<br>Year=%{x}<br>Digital Economy Development Level=%{y}<extra></extra>\",\"legendgroup\":\"Anhui\",\"line\":{\"color\":\"#EF553B\",\"dash\":\"solid\"},\"marker\":{\"symbol\":\"circle\"},\"mode\":\"lines\",\"name\":\"Anhui\",\"orientation\":\"v\",\"showlegend\":true,\"x\":[\"2011\",\"2012\",\"2013\",\"2014\",\"2015\",\"2016\",\"2017\",\"2018\",\"2019\",\"2020\",\"2021\",\"2022\"],\"xaxis\":\"x\",\"y\":[61.751792,62.460304,63.064788,63.654516,64.569312,65.020712,65.608436,66.292968,66.852488,67.157172,67.809024,68.421676],\"yaxis\":\"y\",\"type\":\"scatter\"},{\"hovertemplate\":\"Province=Fujian<br>Year=%{x}<br>Digital Economy Development Level=%{y}<extra></extra>\",\"legendgroup\":\"Fujian\",\"line\":{\"color\":\"#00cc96\",\"dash\":\"solid\"},\"marker\":{\"symbol\":\"circle\"},\"mode\":\"lines\",\"name\":\"Fujian\",\"orientation\":\"v\",\"showlegend\":true,\"x\":[\"2011\",\"2012\",\"2013\",\"2014\",\"2015\",\"2016\",\"2017\",\"2018\",\"2019\",\"2020\",\"2021\",\"2022\"],\"xaxis\":\"x\",\"y\":[62.742664,63.412352,63.990308,64.43764,65.266564,65.673332,66.346252,66.955272,67.333688,67.26696,67.784064,68.217492],\"yaxis\":\"y\",\"type\":\"scatter\"},{\"hovertemplate\":\"Province=Jiangxi<br>Year=%{x}<br>Digital Economy Development Level=%{y}<extra></extra>\",\"legendgroup\":\"Jiangxi\",\"line\":{\"color\":\"#ab63fa\",\"dash\":\"solid\"},\"marker\":{\"symbol\":\"circle\"},\"mode\":\"lines\",\"name\":\"Jiangxi\",\"orientation\":\"v\",\"showlegend\":true,\"x\":[\"2011\",\"2012\",\"2013\",\"2014\",\"2015\",\"2016\",\"2017\",\"2018\",\"2019\",\"2020\",\"2021\",\"2022\"],\"xaxis\":\"x\",\"y\":[61.3804,62.00996,62.557348,62.986568,63.806184,63.925756,64.601704,65.039496,65.495892,65.957144,66.467656,66.899424],\"yaxis\":\"y\",\"type\":\"scatter\"},{\"hovertemplate\":\"Province=Shandong<br>Year=%{x}<br>Digital Economy Development Level=%{y}<extra></extra>\",\"legendgroup\":\"Shandong\",\"line\":{\"color\":\"#FFA15A\",\"dash\":\"solid\"},\"marker\":{\"symbol\":\"circle\"},\"mode\":\"lines\",\"name\":\"Shandong\",\"orientation\":\"v\",\"showlegend\":true,\"x\":[\"2011\",\"2012\",\"2013\",\"2014\",\"2015\",\"2016\",\"2017\",\"2018\",\"2019\",\"2020\",\"2021\",\"2022\"],\"xaxis\":\"x\",\"y\":[63.429828,64.6334,65.816968,66.491028,67.557248,68.84026,69.81884,71.044108,70.823956,71.093,72.60064,74.154916],\"yaxis\":\"y\",\"type\":\"scatter\"},{\"hovertemplate\":\"Province=Henan<br>Year=%{x}<br>Digital Economy Development Level=%{y}<extra></extra>\",\"legendgroup\":\"Henan\",\"line\":{\"color\":\"#19d3f3\",\"dash\":\"solid\"},\"marker\":{\"symbol\":\"circle\"},\"mode\":\"lines\",\"name\":\"Henan\",\"orientation\":\"v\",\"showlegend\":true,\"x\":[\"2011\",\"2012\",\"2013\",\"2014\",\"2015\",\"2016\",\"2017\",\"2018\",\"2019\",\"2020\",\"2021\",\"2022\"],\"xaxis\":\"x\",\"y\":[61.68732,62.447528,63.186924,63.712832,64.605208,65.238304,65.597416,66.04304,66.14984,66.319976,66.88386,67.47768],\"yaxis\":\"y\",\"type\":\"scatter\"},{\"hovertemplate\":\"Province=Hubei<br>Year=%{x}<br>Digital Economy Development Level=%{y}<extra></extra>\",\"legendgroup\":\"Hubei\",\"line\":{\"color\":\"#FF6692\",\"dash\":\"solid\"},\"marker\":{\"symbol\":\"circle\"},\"mode\":\"lines\",\"name\":\"Hubei\",\"orientation\":\"v\",\"showlegend\":true,\"x\":[\"2011\",\"2012\",\"2013\",\"2014\",\"2015\",\"2016\",\"2017\",\"2018\",\"2019\",\"2020\",\"2021\",\"2022\"],\"xaxis\":\"x\",\"y\":[61.806448,62.523068,63.306868,63.767804,64.578132,65.168088,65.636856,66.122308,66.688476,66.945648,67.494424,68.008888],\"yaxis\":\"y\",\"type\":\"scatter\"},{\"hovertemplate\":\"Province=Hunan<br>Year=%{x}<br>Digital Economy Development Level=%{y}<extra></extra>\",\"legendgroup\":\"Hunan\",\"line\":{\"color\":\"#B6E880\",\"dash\":\"solid\"},\"marker\":{\"symbol\":\"circle\"},\"mode\":\"lines\",\"name\":\"Hunan\",\"orientation\":\"v\",\"showlegend\":true,\"x\":[\"2011\",\"2012\",\"2013\",\"2014\",\"2015\",\"2016\",\"2017\",\"2018\",\"2019\",\"2020\",\"2021\",\"2022\"],\"xaxis\":\"x\",\"y\":[61.75466,62.487072,63.087904,63.515936,64.138812,64.568708,64.9965,65.653076,65.978492,66.562492,67.127604,67.7221],\"yaxis\":\"y\",\"type\":\"scatter\"},{\"hovertemplate\":\"Province=Guangdong<br>Year=%{x}<br>Digital Economy Development Level=%{y}<extra></extra>\",\"legendgroup\":\"Guangdong\",\"line\":{\"color\":\"#FF97FF\",\"dash\":\"solid\"},\"marker\":{\"symbol\":\"circle\"},\"mode\":\"lines\",\"name\":\"Guangdong\",\"orientation\":\"v\",\"showlegend\":true,\"x\":[\"2011\",\"2012\",\"2013\",\"2014\",\"2015\",\"2016\",\"2017\",\"2018\",\"2019\",\"2020\",\"2021\",\"2022\"],\"xaxis\":\"x\",\"y\":[68.76888,70.446516,72.10108,73.384872,74.861016,76.508476,78.071236,80.533944,82.65566,83.911788,86.2045,88.481248],\"yaxis\":\"y\",\"type\":\"scatter\"},{\"hovertemplate\":\"Province=Guangxi<br>Year=%{x}<br>Digital Economy Development Level=%{y}<extra></extra>\",\"legendgroup\":\"Guangxi\",\"line\":{\"color\":\"#FECB52\",\"dash\":\"solid\"},\"marker\":{\"symbol\":\"circle\"},\"mode\":\"lines\",\"name\":\"Guangxi\",\"orientation\":\"v\",\"showlegend\":true,\"x\":[\"2011\",\"2012\",\"2013\",\"2014\",\"2015\",\"2016\",\"2017\",\"2018\",\"2019\",\"2020\",\"2021\",\"2022\"],\"xaxis\":\"x\",\"y\":[61.258812,61.765412,62.185008,62.55674,63.028964,63.439036,63.685736,64.17904,64.682024,65.093984,65.487512,65.887392],\"yaxis\":\"y\",\"type\":\"scatter\"},{\"hovertemplate\":\"Province=Hainan<br>Year=%{x}<br>Digital Economy Development Level=%{y}<extra></extra>\",\"legendgroup\":\"Hainan\",\"line\":{\"color\":\"#636efa\",\"dash\":\"solid\"},\"marker\":{\"symbol\":\"circle\"},\"mode\":\"lines\",\"name\":\"Hainan\",\"orientation\":\"v\",\"showlegend\":true,\"x\":[\"2011\",\"2012\",\"2013\",\"2014\",\"2015\",\"2016\",\"2017\",\"2018\",\"2019\",\"2020\",\"2021\",\"2022\"],\"xaxis\":\"x\",\"y\":[60.998388,61.695168,62.154912,62.679452,63.419292,63.58582,63.723372,63.950392,64.108676,64.176204,64.459048,64.638196],\"yaxis\":\"y\",\"type\":\"scatter\"},{\"hovertemplate\":\"Province=Chongqing<br>Year=%{x}<br>Digital Economy Development Level=%{y}<extra></extra>\",\"legendgroup\":\"Chongqing\",\"line\":{\"color\":\"#EF553B\",\"dash\":\"solid\"},\"marker\":{\"symbol\":\"circle\"},\"mode\":\"lines\",\"name\":\"Chongqing\",\"orientation\":\"v\",\"showlegend\":true,\"x\":[\"2011\",\"2012\",\"2013\",\"2014\",\"2015\",\"2016\",\"2017\",\"2018\",\"2019\",\"2020\",\"2021\",\"2022\"],\"xaxis\":\"x\",\"y\":[61.439184,62.031944,62.746808,63.355932,64.117956,64.752328,65.269548,65.820768,66.256748,66.709272,67.310024,67.848652],\"yaxis\":\"y\",\"type\":\"scatter\"},{\"hovertemplate\":\"Province=Sichuan<br>Year=%{x}<br>Digital Economy Development Level=%{y}<extra></extra>\",\"legendgroup\":\"Sichuan\",\"line\":{\"color\":\"#00cc96\",\"dash\":\"solid\"},\"marker\":{\"symbol\":\"circle\"},\"mode\":\"lines\",\"name\":\"Sichuan\",\"orientation\":\"v\",\"showlegend\":true,\"x\":[\"2011\",\"2012\",\"2013\",\"2014\",\"2015\",\"2016\",\"2017\",\"2018\",\"2019\",\"2020\",\"2021\",\"2022\"],\"xaxis\":\"x\",\"y\":[62.050548,62.82058,63.63302,64.193844,65.133748,65.770416,66.570264,67.265292,68.080984,68.592344,69.196928,69.678788],\"yaxis\":\"y\",\"type\":\"scatter\"},{\"hovertemplate\":\"Province=Guizhou<br>Year=%{x}<br>Digital Economy Development Level=%{y}<extra></extra>\",\"legendgroup\":\"Guizhou\",\"line\":{\"color\":\"#ab63fa\",\"dash\":\"solid\"},\"marker\":{\"symbol\":\"circle\"},\"mode\":\"lines\",\"name\":\"Guizhou\",\"orientation\":\"v\",\"showlegend\":true,\"x\":[\"2011\",\"2012\",\"2013\",\"2014\",\"2015\",\"2016\",\"2017\",\"2018\",\"2019\",\"2020\",\"2021\",\"2022\"],\"xaxis\":\"x\",\"y\":[60.679452,61.202672,61.73862,62.141348,62.797096,63.293748,63.550596,63.898712,64.06182,64.190972,64.586968,64.951052],\"yaxis\":\"y\",\"type\":\"scatter\"},{\"hovertemplate\":\"Province=Yunnan<br>Year=%{x}<br>Digital Economy Development Level=%{y}<extra></extra>\",\"legendgroup\":\"Yunnan\",\"line\":{\"color\":\"#FFA15A\",\"dash\":\"solid\"},\"marker\":{\"symbol\":\"circle\"},\"mode\":\"lines\",\"name\":\"Yunnan\",\"orientation\":\"v\",\"showlegend\":true,\"x\":[\"2011\",\"2012\",\"2013\",\"2014\",\"2015\",\"2016\",\"2017\",\"2018\",\"2019\",\"2020\",\"2021\",\"2022\"],\"xaxis\":\"x\",\"y\":[61.012744,61.547208,62.031672,62.430808,63.119068,63.397684,63.568776,63.887936,64.153908,64.438208,64.673336,64.899328],\"yaxis\":\"y\",\"type\":\"scatter\"},{\"hovertemplate\":\"Province=Shaanxi<br>Year=%{x}<br>Digital Economy Development Level=%{y}<extra></extra>\",\"legendgroup\":\"Shaanxi\",\"line\":{\"color\":\"#19d3f3\",\"dash\":\"solid\"},\"marker\":{\"symbol\":\"circle\"},\"mode\":\"lines\",\"name\":\"Shaanxi\",\"orientation\":\"v\",\"showlegend\":true,\"x\":[\"2011\",\"2012\",\"2013\",\"2014\",\"2015\",\"2016\",\"2017\",\"2018\",\"2019\",\"2020\",\"2021\",\"2022\"],\"xaxis\":\"x\",\"y\":[61.417904,62.014592,62.649176,63.129164,63.81872,64.340344,64.670604,65.172376,65.732244,65.969044,66.57324,67.060432],\"yaxis\":\"y\",\"type\":\"scatter\"},{\"hovertemplate\":\"Province=Gansu<br>Year=%{x}<br>Digital Economy Development Level=%{y}<extra></extra>\",\"legendgroup\":\"Gansu\",\"line\":{\"color\":\"#FF6692\",\"dash\":\"solid\"},\"marker\":{\"symbol\":\"circle\"},\"mode\":\"lines\",\"name\":\"Gansu\",\"orientation\":\"v\",\"showlegend\":true,\"x\":[\"2011\",\"2012\",\"2013\",\"2014\",\"2015\",\"2016\",\"2017\",\"2018\",\"2019\",\"2020\",\"2021\",\"2022\"],\"xaxis\":\"x\",\"y\":[60.679184,61.217628,61.668236,62.025508,62.627716,62.745144,62.897536,63.131476,63.322852,63.496976,63.820964,64.07494],\"yaxis\":\"y\",\"type\":\"scatter\"},{\"hovertemplate\":\"Province=Qinghai<br>Year=%{x}<br>Digital Economy Development Level=%{y}<extra></extra>\",\"legendgroup\":\"Qinghai\",\"line\":{\"color\":\"#B6E880\",\"dash\":\"solid\"},\"marker\":{\"symbol\":\"circle\"},\"mode\":\"lines\",\"name\":\"Qinghai\",\"orientation\":\"v\",\"showlegend\":true,\"x\":[\"2011\",\"2012\",\"2013\",\"2014\",\"2015\",\"2016\",\"2017\",\"2018\",\"2019\",\"2020\",\"2021\",\"2022\"],\"xaxis\":\"x\",\"y\":[60.694708,60.964952,61.435044,61.69052,62.374156,62.516272,62.642772,62.832176,62.923456,63.063484,63.435864,63.780824],\"yaxis\":\"y\",\"type\":\"scatter\"},{\"hovertemplate\":\"Province=Ningxia<br>Year=%{x}<br>Digital Economy Development Level=%{y}<extra></extra>\",\"legendgroup\":\"Ningxia\",\"line\":{\"color\":\"#FF97FF\",\"dash\":\"solid\"},\"marker\":{\"symbol\":\"circle\"},\"mode\":\"lines\",\"name\":\"Ningxia\",\"orientation\":\"v\",\"showlegend\":true,\"x\":[\"2011\",\"2012\",\"2013\",\"2014\",\"2015\",\"2016\",\"2017\",\"2018\",\"2019\",\"2020\",\"2021\",\"2022\"],\"xaxis\":\"x\",\"y\":[60.833932,61.341764,61.707812,62.087536,62.627452,62.698292,62.907872,63.115564,63.157192,63.282708,63.561972,63.8109],\"yaxis\":\"y\",\"type\":\"scatter\"},{\"hovertemplate\":\"Province=Xinjiang<br>Year=%{x}<br>Digital Economy Development Level=%{y}<extra></extra>\",\"legendgroup\":\"Xinjiang\",\"line\":{\"color\":\"#FECB52\",\"dash\":\"solid\"},\"marker\":{\"symbol\":\"circle\"},\"mode\":\"lines\",\"name\":\"Xinjiang\",\"orientation\":\"v\",\"showlegend\":true,\"x\":[\"2011\",\"2012\",\"2013\",\"2014\",\"2015\",\"2016\",\"2017\",\"2018\",\"2019\",\"2020\",\"2021\",\"2022\"],\"xaxis\":\"x\",\"y\":[60.85282,61.37846,61.818788,62.035784,62.550196,62.523388,62.73456,63.08662,63.247532,63.37118,63.7046,63.900884],\"yaxis\":\"y\",\"type\":\"scatter\"}],                        {\"template\":{\"data\":{\"histogram2dcontour\":[{\"type\":\"histogram2dcontour\",\"colorbar\":{\"outlinewidth\":0,\"ticks\":\"\"},\"colorscale\":[[0.0,\"#0d0887\"],[0.1111111111111111,\"#46039f\"],[0.2222222222222222,\"#7201a8\"],[0.3333333333333333,\"#9c179e\"],[0.4444444444444444,\"#bd3786\"],[0.5555555555555556,\"#d8576b\"],[0.6666666666666666,\"#ed7953\"],[0.7777777777777778,\"#fb9f3a\"],[0.8888888888888888,\"#fdca26\"],[1.0,\"#f0f921\"]]}],\"choropleth\":[{\"type\":\"choropleth\",\"colorbar\":{\"outlinewidth\":0,\"ticks\":\"\"}}],\"histogram2d\":[{\"type\":\"histogram2d\",\"colorbar\":{\"outlinewidth\":0,\"ticks\":\"\"},\"colorscale\":[[0.0,\"#0d0887\"],[0.1111111111111111,\"#46039f\"],[0.2222222222222222,\"#7201a8\"],[0.3333333333333333,\"#9c179e\"],[0.4444444444444444,\"#bd3786\"],[0.5555555555555556,\"#d8576b\"],[0.6666666666666666,\"#ed7953\"],[0.7777777777777778,\"#fb9f3a\"],[0.8888888888888888,\"#fdca26\"],[1.0,\"#f0f921\"]]}],\"heatmap\":[{\"type\":\"heatmap\",\"colorbar\":{\"outlinewidth\":0,\"ticks\":\"\"},\"colorscale\":[[0.0,\"#0d0887\"],[0.1111111111111111,\"#46039f\"],[0.2222222222222222,\"#7201a8\"],[0.3333333333333333,\"#9c179e\"],[0.4444444444444444,\"#bd3786\"],[0.5555555555555556,\"#d8576b\"],[0.6666666666666666,\"#ed7953\"],[0.7777777777777778,\"#fb9f3a\"],[0.8888888888888888,\"#fdca26\"],[1.0,\"#f0f921\"]]}],\"heatmapgl\":[{\"type\":\"heatmapgl\",\"colorbar\":{\"outlinewidth\":0,\"ticks\":\"\"},\"colorscale\":[[0.0,\"#0d0887\"],[0.1111111111111111,\"#46039f\"],[0.2222222222222222,\"#7201a8\"],[0.3333333333333333,\"#9c179e\"],[0.4444444444444444,\"#bd3786\"],[0.5555555555555556,\"#d8576b\"],[0.6666666666666666,\"#ed7953\"],[0.7777777777777778,\"#fb9f3a\"],[0.8888888888888888,\"#fdca26\"],[1.0,\"#f0f921\"]]}],\"contourcarpet\":[{\"type\":\"contourcarpet\",\"colorbar\":{\"outlinewidth\":0,\"ticks\":\"\"}}],\"contour\":[{\"type\":\"contour\",\"colorbar\":{\"outlinewidth\":0,\"ticks\":\"\"},\"colorscale\":[[0.0,\"#0d0887\"],[0.1111111111111111,\"#46039f\"],[0.2222222222222222,\"#7201a8\"],[0.3333333333333333,\"#9c179e\"],[0.4444444444444444,\"#bd3786\"],[0.5555555555555556,\"#d8576b\"],[0.6666666666666666,\"#ed7953\"],[0.7777777777777778,\"#fb9f3a\"],[0.8888888888888888,\"#fdca26\"],[1.0,\"#f0f921\"]]}],\"surface\":[{\"type\":\"surface\",\"colorbar\":{\"outlinewidth\":0,\"ticks\":\"\"},\"colorscale\":[[0.0,\"#0d0887\"],[0.1111111111111111,\"#46039f\"],[0.2222222222222222,\"#7201a8\"],[0.3333333333333333,\"#9c179e\"],[0.4444444444444444,\"#bd3786\"],[0.5555555555555556,\"#d8576b\"],[0.6666666666666666,\"#ed7953\"],[0.7777777777777778,\"#fb9f3a\"],[0.8888888888888888,\"#fdca26\"],[1.0,\"#f0f921\"]]}],\"mesh3d\":[{\"type\":\"mesh3d\",\"colorbar\":{\"outlinewidth\":0,\"ticks\":\"\"}}],\"scatter\":[{\"fillpattern\":{\"fillmode\":\"overlay\",\"size\":10,\"solidity\":0.2},\"type\":\"scatter\"}],\"parcoords\":[{\"type\":\"parcoords\",\"line\":{\"colorbar\":{\"outlinewidth\":0,\"ticks\":\"\"}}}],\"scatterpolargl\":[{\"type\":\"scatterpolargl\",\"marker\":{\"colorbar\":{\"outlinewidth\":0,\"ticks\":\"\"}}}],\"bar\":[{\"error_x\":{\"color\":\"#2a3f5f\"},\"error_y\":{\"color\":\"#2a3f5f\"},\"marker\":{\"line\":{\"color\":\"#E5ECF6\",\"width\":0.5},\"pattern\":{\"fillmode\":\"overlay\",\"size\":10,\"solidity\":0.2}},\"type\":\"bar\"}],\"scattergeo\":[{\"type\":\"scattergeo\",\"marker\":{\"colorbar\":{\"outlinewidth\":0,\"ticks\":\"\"}}}],\"scatterpolar\":[{\"type\":\"scatterpolar\",\"marker\":{\"colorbar\":{\"outlinewidth\":0,\"ticks\":\"\"}}}],\"histogram\":[{\"marker\":{\"pattern\":{\"fillmode\":\"overlay\",\"size\":10,\"solidity\":0.2}},\"type\":\"histogram\"}],\"scattergl\":[{\"type\":\"scattergl\",\"marker\":{\"colorbar\":{\"outlinewidth\":0,\"ticks\":\"\"}}}],\"scatter3d\":[{\"type\":\"scatter3d\",\"line\":{\"colorbar\":{\"outlinewidth\":0,\"ticks\":\"\"}},\"marker\":{\"colorbar\":{\"outlinewidth\":0,\"ticks\":\"\"}}}],\"scattermapbox\":[{\"type\":\"scattermapbox\",\"marker\":{\"colorbar\":{\"outlinewidth\":0,\"ticks\":\"\"}}}],\"scatterternary\":[{\"type\":\"scatterternary\",\"marker\":{\"colorbar\":{\"outlinewidth\":0,\"ticks\":\"\"}}}],\"scattercarpet\":[{\"type\":\"scattercarpet\",\"marker\":{\"colorbar\":{\"outlinewidth\":0,\"ticks\":\"\"}}}],\"carpet\":[{\"aaxis\":{\"endlinecolor\":\"#2a3f5f\",\"gridcolor\":\"white\",\"linecolor\":\"white\",\"minorgridcolor\":\"white\",\"startlinecolor\":\"#2a3f5f\"},\"baxis\":{\"endlinecolor\":\"#2a3f5f\",\"gridcolor\":\"white\",\"linecolor\":\"white\",\"minorgridcolor\":\"white\",\"startlinecolor\":\"#2a3f5f\"},\"type\":\"carpet\"}],\"table\":[{\"cells\":{\"fill\":{\"color\":\"#EBF0F8\"},\"line\":{\"color\":\"white\"}},\"header\":{\"fill\":{\"color\":\"#C8D4E3\"},\"line\":{\"color\":\"white\"}},\"type\":\"table\"}],\"barpolar\":[{\"marker\":{\"line\":{\"color\":\"#E5ECF6\",\"width\":0.5},\"pattern\":{\"fillmode\":\"overlay\",\"size\":10,\"solidity\":0.2}},\"type\":\"barpolar\"}],\"pie\":[{\"automargin\":true,\"type\":\"pie\"}]},\"layout\":{\"autotypenumbers\":\"strict\",\"colorway\":[\"#636efa\",\"#EF553B\",\"#00cc96\",\"#ab63fa\",\"#FFA15A\",\"#19d3f3\",\"#FF6692\",\"#B6E880\",\"#FF97FF\",\"#FECB52\"],\"font\":{\"color\":\"#2a3f5f\"},\"hovermode\":\"closest\",\"hoverlabel\":{\"align\":\"left\"},\"paper_bgcolor\":\"white\",\"plot_bgcolor\":\"#E5ECF6\",\"polar\":{\"bgcolor\":\"#E5ECF6\",\"angularaxis\":{\"gridcolor\":\"white\",\"linecolor\":\"white\",\"ticks\":\"\"},\"radialaxis\":{\"gridcolor\":\"white\",\"linecolor\":\"white\",\"ticks\":\"\"}},\"ternary\":{\"bgcolor\":\"#E5ECF6\",\"aaxis\":{\"gridcolor\":\"white\",\"linecolor\":\"white\",\"ticks\":\"\"},\"baxis\":{\"gridcolor\":\"white\",\"linecolor\":\"white\",\"ticks\":\"\"},\"caxis\":{\"gridcolor\":\"white\",\"linecolor\":\"white\",\"ticks\":\"\"}},\"coloraxis\":{\"colorbar\":{\"outlinewidth\":0,\"ticks\":\"\"}},\"colorscale\":{\"sequential\":[[0.0,\"#0d0887\"],[0.1111111111111111,\"#46039f\"],[0.2222222222222222,\"#7201a8\"],[0.3333333333333333,\"#9c179e\"],[0.4444444444444444,\"#bd3786\"],[0.5555555555555556,\"#d8576b\"],[0.6666666666666666,\"#ed7953\"],[0.7777777777777778,\"#fb9f3a\"],[0.8888888888888888,\"#fdca26\"],[1.0,\"#f0f921\"]],\"sequentialminus\":[[0.0,\"#0d0887\"],[0.1111111111111111,\"#46039f\"],[0.2222222222222222,\"#7201a8\"],[0.3333333333333333,\"#9c179e\"],[0.4444444444444444,\"#bd3786\"],[0.5555555555555556,\"#d8576b\"],[0.6666666666666666,\"#ed7953\"],[0.7777777777777778,\"#fb9f3a\"],[0.8888888888888888,\"#fdca26\"],[1.0,\"#f0f921\"]],\"diverging\":[[0,\"#8e0152\"],[0.1,\"#c51b7d\"],[0.2,\"#de77ae\"],[0.3,\"#f1b6da\"],[0.4,\"#fde0ef\"],[0.5,\"#f7f7f7\"],[0.6,\"#e6f5d0\"],[0.7,\"#b8e186\"],[0.8,\"#7fbc41\"],[0.9,\"#4d9221\"],[1,\"#276419\"]]},\"xaxis\":{\"gridcolor\":\"white\",\"linecolor\":\"white\",\"ticks\":\"\",\"title\":{\"standoff\":15},\"zerolinecolor\":\"white\",\"automargin\":true,\"zerolinewidth\":2},\"yaxis\":{\"gridcolor\":\"white\",\"linecolor\":\"white\",\"ticks\":\"\",\"title\":{\"standoff\":15},\"zerolinecolor\":\"white\",\"automargin\":true,\"zerolinewidth\":2},\"scene\":{\"xaxis\":{\"backgroundcolor\":\"#E5ECF6\",\"gridcolor\":\"white\",\"linecolor\":\"white\",\"showbackground\":true,\"ticks\":\"\",\"zerolinecolor\":\"white\",\"gridwidth\":2},\"yaxis\":{\"backgroundcolor\":\"#E5ECF6\",\"gridcolor\":\"white\",\"linecolor\":\"white\",\"showbackground\":true,\"ticks\":\"\",\"zerolinecolor\":\"white\",\"gridwidth\":2},\"zaxis\":{\"backgroundcolor\":\"#E5ECF6\",\"gridcolor\":\"white\",\"linecolor\":\"white\",\"showbackground\":true,\"ticks\":\"\",\"zerolinecolor\":\"white\",\"gridwidth\":2}},\"shapedefaults\":{\"line\":{\"color\":\"#2a3f5f\"}},\"annotationdefaults\":{\"arrowcolor\":\"#2a3f5f\",\"arrowhead\":0,\"arrowwidth\":1},\"geo\":{\"bgcolor\":\"white\",\"landcolor\":\"#E5ECF6\",\"subunitcolor\":\"white\",\"showland\":true,\"showlakes\":true,\"lakecolor\":\"white\"},\"title\":{\"x\":0.05},\"mapbox\":{\"style\":\"light\"}}},\"xaxis\":{\"anchor\":\"y\",\"domain\":[0.0,1.0],\"title\":{\"text\":\"Year\"},\"tickmode\":\"linear\"},\"yaxis\":{\"anchor\":\"x\",\"domain\":[0.0,1.0],\"title\":{\"text\":\"Digital Economy Development Level\"}},\"legend\":{\"title\":{\"text\":\"Province\"},\"tracegroupgap\":0},\"title\":{\"text\":\"Digital Economy Development Level by Province (2011-2022)\"}},                        {\"responsive\": true}                    ).then(function(){\n",
       "                            \n",
       "var gd = document.getElementById('38b973ac-c4e8-4bbe-886f-a80591187f6d');\n",
       "var x = new MutationObserver(function (mutations, observer) {{\n",
       "        var display = window.getComputedStyle(gd).display;\n",
       "        if (!display || display === 'none') {{\n",
       "            console.log([gd, 'removed!']);\n",
       "            Plotly.purge(gd);\n",
       "            observer.disconnect();\n",
       "        }}\n",
       "}});\n",
       "\n",
       "// Listen for the removal of the full notebook cells\n",
       "var notebookContainer = gd.closest('#notebook-container');\n",
       "if (notebookContainer) {{\n",
       "    x.observe(notebookContainer, {childList: true});\n",
       "}}\n",
       "\n",
       "// Listen for the clearing of the current output cell\n",
       "var outputEl = gd.closest('.output');\n",
       "if (outputEl) {{\n",
       "    x.observe(outputEl, {childList: true});\n",
       "}}\n",
       "\n",
       "                        })                };                });            </script>        </div>"
      ]
     },
     "metadata": {},
     "output_type": "display_data"
    }
   ],
   "source": [
    "import plotly.express as px\n",
    "import pandas as pd\n",
    "\n",
    "# Assuming 'new_data' is your DataFrame\n",
    "\n",
    "# Convert '年份' to string if it's not already, to ensure it's treated as a discrete category\n",
    "new_data['年份'] = new_data['年份'].astype(str)\n",
    "\n",
    "# Create an interactive line plot with Plotly Express\n",
    "fig = px.line(new_data, x='年份', y='得分', color='省份',\n",
    "              title='Digital Economy Development Level by Province (2011-2022)',\n",
    "              labels={'年份': 'Year', '得分': 'Digital Economy Development Level', '省份': 'Province'})\n",
    "\n",
    "# Improve layout\n",
    "fig.update_layout(xaxis_title='Year',\n",
    "                  yaxis_title='Digital Economy Development Level',\n",
    "                  legend_title='Province',\n",
    "                  xaxis=dict(tickmode='linear'))\n",
    "\n",
    "# Show plot\n",
    "fig.show()\n"
   ]
  }
 ],
 "metadata": {
  "kernelspec": {
   "display_name": "Python 3 (ipykernel)",
   "language": "python",
   "name": "python3"
  },
  "language_info": {
   "codemirror_mode": {
    "name": "ipython",
    "version": 3
   },
   "file_extension": ".py",
   "mimetype": "text/x-python",
   "name": "python",
   "nbconvert_exporter": "python",
   "pygments_lexer": "ipython3",
   "version": "3.11.4"
  }
 },
 "nbformat": 4,
 "nbformat_minor": 5
}
