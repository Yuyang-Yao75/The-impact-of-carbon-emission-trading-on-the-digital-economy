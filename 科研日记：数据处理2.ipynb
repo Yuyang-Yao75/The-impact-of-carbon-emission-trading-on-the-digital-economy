{
 "cells": [
  {
   "cell_type": "code",
   "execution_count": 2,
   "id": "aaa10802",
   "metadata": {},
   "outputs": [],
   "source": [
    "import pandas as pd\n",
    "import os\n",
    "\n",
    "def merge_excel_data_in_folder(folder_path, output_file_name, start_row, end_row, start_col, end_col, folder_path_out=None):\n",
    "    \"\"\"\n",
    "    遍历指定文件夹中的所有Excel文件，对每个文件从指定的开始行列到结束行列的数据进行合并处理，\n",
    "    然后将所有合并后的数据保存到指定文件夹下的新Excel文件中。\n",
    "\n",
    "    参数:\n",
    "    folder_path: 包含Excel文件的文件夹路径。\n",
    "    output_file_name: 输出文件的名称。\n",
    "    start_row: 数据开始的行号（从0开始计数）。\n",
    "    end_row: 数据结束的行号。\n",
    "    start_col: 数据开始的列标（如'A', 'B'等）。\n",
    "    end_col: 数据结束的列标。\n",
    "    folder_path_out: 输出文件的文件夹路径。如果为None，则使用输入文件的文件夹路径。\n",
    "    \"\"\"\n",
    "    # 初始化一个空的DataFrame用于存放所有合并后的数据\n",
    "    all_merged_data = pd.DataFrame()\n",
    "\n",
    "    # 使用提供的输出文件夹路径，如果没有提供，则使用输入文件的文件夹路径\n",
    "    if folder_path_out is None:\n",
    "        folder_path_out = folder_path\n",
    "    \n",
    "    # 遍历文件夹中的所有文件\n",
    "    for file_name in os.listdir(folder_path):\n",
    "        # 构造完整的文件路径\n",
    "        file_path = os.path.join(folder_path, file_name)\n",
    "        # 确保是Excel文件\n",
    "        if file_path.endswith('.xlsx'):\n",
    "            # 读取指定范围的数据\n",
    "            usecols = f\"{start_col}:{end_col}\"\n",
    "            skiprows = start_row\n",
    "            nrows = end_row - start_row + 1\n",
    "            df = pd.read_excel(file_path, usecols=usecols, skiprows=skiprows, nrows=nrows)\n",
    "            # 初始化一个空的列表用于存放合并后的数据\n",
    "            merged_data = []\n",
    "            # 从倒数第一列开始，逐列向前合并数据\n",
    "            for column in reversed(df.columns):\n",
    "                # 将当前列的数据添加到合并列表中\n",
    "                merged_data.extend(df[column].dropna().values)\n",
    "            # 将合并后的数据添加到总的DataFrame中\n",
    "            all_merged_data = pd.concat([all_merged_data, pd.DataFrame(merged_data, columns=[file_name])], axis=1)\n",
    "\n",
    "    # 定义新Excel文件的路径\n",
    "    new_excel_path = os.path.join(folder_path_out, output_file_name)\n",
    "\n",
    "    # 将合并后的数据保存到新的Excel文件中\n",
    "    all_merged_data.to_excel(new_excel_path, index=False)\n",
    "\n",
    "    print(f\"合并后的数据已保存到 {new_excel_path}\")"
   ]
  },
  {
   "cell_type": "code",
   "execution_count": 4,
   "id": "71204316",
   "metadata": {},
   "outputs": [
    {
     "name": "stdout",
     "output_type": "stream",
     "text": [
      "合并后的数据已保存到 /Users/yaoyuyang/Desktop/保研相关/科研日记/数据/处理数据/test_数字经济、市场结构与创新绩效/test_数字经济、市场结构与创新绩效_控制变量_面板数据.xlsx\n"
     ]
    }
   ],
   "source": [
    "#test_数字经济、市场结构与创新绩效\n",
    "folder_path = '/Users/yaoyuyang/Desktop/保研相关/科研日记/数据/处理数据/控制变量'\n",
    "output_file_name = 'test_数字经济、市场结构与创新绩效_控制变量_面板数据.xlsx'\n",
    "folder_path_out = '/Users/yaoyuyang/Desktop/保研相关/科研日记/数据/处理数据/test_数字经济、市场结构与创新绩效'  # 可选，如果您想输出到不同的文件夹\n",
    "\n",
    "merge_excel_data_in_folder(folder_path, output_file_name,3 , 33,'H','R',folder_path_out)"
   ]
  },
  {
   "cell_type": "code",
   "execution_count": 3,
   "id": "901df302",
   "metadata": {},
   "outputs": [
    {
     "name": "stdout",
     "output_type": "stream",
     "text": [
      "合并后的数据已保存到 /Users/yaoyuyang/Desktop/保研相关/科研日记/数据/处理数据/test_咸鱼3/test_咸鱼3_控制变量_面板数据.xlsx\n"
     ]
    }
   ],
   "source": [
    "folder_path = '/Users/yaoyuyang/Desktop/保研相关/科研日记/数据/处理数据/控制变量'\n",
    "output_file_name = 'test_咸鱼3_控制变量_面板数据.xlsx'\n",
    "folder_path_out = '/Users/yaoyuyang/Desktop/保研相关/科研日记/数据/处理数据/test_咸鱼3'  # 可选，如果您想输出到不同的文件夹\n",
    "\n",
    "merge_excel_data_in_folder(folder_path, output_file_name,3 , 33,'D','S',folder_path_out)"
   ]
  },
  {
   "cell_type": "code",
   "execution_count": 7,
   "id": "a7d12152",
   "metadata": {},
   "outputs": [
    {
     "name": "stdout",
     "output_type": "stream",
     "text": [
      "合并后的数据已保存到 /Users/yaoyuyang/Desktop/保研相关/科研日记/数据/处理数据/面板数据/技术创新_面板数据.xlsx\n"
     ]
    }
   ],
   "source": [
    "#test_数字经济、市场结构与创新绩效\n",
    "folder_path = '/Users/yaoyuyang/Desktop/保研相关/科研日记/数据/处理数据/控制变量'\n",
    "output_file_name = '技术创新_面板数据.xlsx'\n",
    "folder_path_out = '/Users/yaoyuyang/Desktop/保研相关/科研日记/数据/处理数据/面板数据'  # 可选，如果您想输出到不同的文件夹\n",
    "\n",
    "merge_excel_data_in_folder(folder_path, output_file_name,3 , 33,'D','S',folder_path_out)"
   ]
  },
  {
   "cell_type": "code",
   "execution_count": 7,
   "id": "05207cd8",
   "metadata": {},
   "outputs": [
    {
     "name": "stdout",
     "output_type": "stream",
     "text": [
      "合并后的数据已保存到 /Users/yaoyuyang/Desktop/保研相关/科研日记/数据/处理数据/面板数据/tec4_面板数据1.xlsx\n"
     ]
    }
   ],
   "source": [
    "#test_数字经济、市场结构与创新绩效\n",
    "folder_path = '/Users/yaoyuyang/Desktop/保研相关/科研日记/数据/处理数据/temp'\n",
    "output_file_name = 'tec4_面板数据1.xlsx'\n",
    "folder_path_out = '/Users/yaoyuyang/Desktop/保研相关/科研日记/数据/处理数据/面板数据'  # 可选，如果您想输出到不同的文件夹\n",
    "\n",
    "merge_excel_data_in_folder(folder_path, output_file_name,3 , 33,'D','O',folder_path_out)"
   ]
  }
 ],
 "metadata": {
  "kernelspec": {
   "display_name": "Python 3 (ipykernel)",
   "language": "python",
   "name": "python3"
  },
  "language_info": {
   "codemirror_mode": {
    "name": "ipython",
    "version": 3
   },
   "file_extension": ".py",
   "mimetype": "text/x-python",
   "name": "python",
   "nbconvert_exporter": "python",
   "pygments_lexer": "ipython3",
   "version": "3.11.4"
  }
 },
 "nbformat": 4,
 "nbformat_minor": 5
}
